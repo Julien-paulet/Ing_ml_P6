{
 "cells": [
  {
   "cell_type": "code",
   "execution_count": 1,
   "metadata": {},
   "outputs": [],
   "source": [
    "import os\n",
    "import pandas as pd\n",
    "import numpy as np\n",
    "import keras\n",
    "from keras.preprocessing.image import ImageDataGenerator\n",
    "from keras.layers import Dense, Conv2D, Flatten, MaxPooling2D\n",
    "#from tensorflow.python.keras.preprocessing.image import ImageDataGenerator, load_img\n",
    "import matplotlib.pyplot as plt\n",
    "import cv2\n",
    "import warnings\n",
    "import tensorflow as tf\n",
    "from keras.models import Sequential\n",
    "from keras.optimizers import Adam\n",
    "tf.random.set_seed(42)\n",
    "#warnings.filterwarnings(\"ignore\")"
   ]
  },
  {
   "cell_type": "code",
   "execution_count": 2,
   "metadata": {},
   "outputs": [],
   "source": [
    "# If this is not set, bug because tf takes too much memory\n",
    "physical_devices = tf.config.experimental.list_physical_devices('GPU')\n",
    "assert len(physical_devices) > 0, \"Not enough GPU hardware devices available\"\n",
    "config = tf.config.experimental.set_memory_growth(physical_devices[0], True)"
   ]
  },
  {
   "cell_type": "markdown",
   "metadata": {},
   "source": [
    "Init variables (in the script for now, via config file later)"
   ]
  },
  {
   "cell_type": "code",
   "execution_count": 3,
   "metadata": {},
   "outputs": [],
   "source": [
    "config = None\n",
    "\n",
    "# Global\n",
    "index = 0\n",
    "\n",
    "# For data\n",
    "path = '/home/mlmaster/Code/Ing_ml_P6/dataset/'\n",
    "img_height = 80\n",
    "img_width = 80\n",
    "zca_whitening = False\n",
    "horizontal_flip = True\n",
    "\n",
    "# For model\n",
    "model_type = 3\n",
    "batch_size = 50\n",
    "learning_rate = 0.001\n",
    "epochs = 50\n",
    "steps_per_epoch = int(12000 / (batch_size))\n",
    "validation_steps = int(1200 / (batch_size))\n",
    "\n",
    "# For Logs\n",
    "save = \"/home/mlmaster/Code/Ing_ml_P6/logs/\""
   ]
  },
  {
   "cell_type": "markdown",
   "metadata": {},
   "source": [
    "Building Dataset for logs"
   ]
  },
  {
   "cell_type": "code",
   "execution_count": 4,
   "metadata": {},
   "outputs": [],
   "source": [
    "dataset = [index, img_height, img_width, batch_size,\n",
    "           learning_rate, epochs, steps_per_epoch,\n",
    "           validation_steps, zca_whitening, horizontal_flip,\n",
    "           model_type]\n",
    "\n",
    "dataset = pd.DataFrame(dataset).T\n",
    "dataset = dataset.rename(columns={0:'Index', 1:'Img Height', 2:'Img Width', 3:'Batch Size',\n",
    "                                  4:'Learning Rate', 5:'Epochs', 6:'Steps Per Epoch',\n",
    "                                  7:'validation Steps', 8:'Zca Whitening', 9:'Horizontal Flip',\n",
    "                                  10:'Model Type'})"
   ]
  },
  {
   "cell_type": "code",
   "execution_count": 5,
   "metadata": {},
   "outputs": [
    {
     "data": {
      "text/html": [
       "<div>\n",
       "<style scoped>\n",
       "    .dataframe tbody tr th:only-of-type {\n",
       "        vertical-align: middle;\n",
       "    }\n",
       "\n",
       "    .dataframe tbody tr th {\n",
       "        vertical-align: top;\n",
       "    }\n",
       "\n",
       "    .dataframe thead th {\n",
       "        text-align: right;\n",
       "    }\n",
       "</style>\n",
       "<table border=\"1\" class=\"dataframe\">\n",
       "  <thead>\n",
       "    <tr style=\"text-align: right;\">\n",
       "      <th></th>\n",
       "      <th>Index</th>\n",
       "      <th>Img Height</th>\n",
       "      <th>Img Width</th>\n",
       "      <th>Batch Size</th>\n",
       "      <th>Learning Rate</th>\n",
       "      <th>Epochs</th>\n",
       "      <th>Steps Per Epoch</th>\n",
       "      <th>validation Steps</th>\n",
       "      <th>Zca Whitening</th>\n",
       "      <th>Horizontal Flip</th>\n",
       "      <th>Model Type</th>\n",
       "    </tr>\n",
       "  </thead>\n",
       "  <tbody>\n",
       "    <tr>\n",
       "      <th>0</th>\n",
       "      <td>0</td>\n",
       "      <td>80</td>\n",
       "      <td>80</td>\n",
       "      <td>50</td>\n",
       "      <td>0.001</td>\n",
       "      <td>50</td>\n",
       "      <td>240</td>\n",
       "      <td>24</td>\n",
       "      <td>False</td>\n",
       "      <td>True</td>\n",
       "      <td>3</td>\n",
       "    </tr>\n",
       "  </tbody>\n",
       "</table>\n",
       "</div>"
      ],
      "text/plain": [
       "  Index Img Height Img Width Batch Size Learning Rate Epochs Steps Per Epoch  \\\n",
       "0     0         80        80         50         0.001     50             240   \n",
       "\n",
       "  validation Steps Zca Whitening Horizontal Flip Model Type  \n",
       "0               24         False            True          3  "
      ]
     },
     "execution_count": 5,
     "metadata": {},
     "output_type": "execute_result"
    }
   ],
   "source": [
    "dataset"
   ]
  },
  {
   "cell_type": "code",
   "execution_count": 6,
   "metadata": {},
   "outputs": [],
   "source": [
    "# Locked variable, does not change with config file\n",
    "train = 'Train/'\n",
    "val = 'Validation/'\n",
    "test = 'Test/'\n",
    "fullPathTrain = path + train\n",
    "fullPathVal = path + val\n",
    "fullPathTest = path + test\n",
    "\n",
    "# For model\n",
    "train_datagen =  ImageDataGenerator(\n",
    "    zca_whitening=zca_whitening,\n",
    "    horizontal_flip=horizontal_flip,\n",
    "    rescale=1./255\n",
    ")\n",
    "\n",
    "val_datagen =  ImageDataGenerator(\n",
    "    rescale=1./255\n",
    ")\n",
    "\n",
    "test_datagen =  ImageDataGenerator(\n",
    "    rescale=1./255\n",
    ")"
   ]
  },
  {
   "cell_type": "code",
   "execution_count": 7,
   "metadata": {},
   "outputs": [],
   "source": [
    "#setting the path to the directory containing the pics\n",
    "categories = []\n",
    "for i in os.listdir(fullPathTrain):\n",
    "    categories.append(i)"
   ]
  },
  {
   "cell_type": "code",
   "execution_count": 8,
   "metadata": {},
   "outputs": [],
   "source": [
    "def load_data(which='Train', categories=categories):\n",
    "    \n",
    "    \"\"\"Function that loads data and resize the images\"\"\"\n",
    "    \n",
    "    if which == 'Train':\n",
    "        path = fullPathTrain\n",
    "        print('Loading Train Data')\n",
    "    elif which == 'Val':\n",
    "        path = fullPathVal\n",
    "        print('Loading Validation Data')\n",
    "    elif which == 'Test':\n",
    "        path = fullPathTest\n",
    "        print('Loading Test Data')\n",
    "    else:\n",
    "        print('error, which must be either : Train, Val, Test')\n",
    "    data = []\n",
    "    label = []\n",
    "    for i in categories:\n",
    "        for img in os.listdir(path + i):\n",
    "            pic = cv2.imread(os.path.join(path + i,img))\n",
    "            pic = cv2.cvtColor(pic,cv2.COLOR_BGR2RGB)\n",
    "            pic = cv2.resize(pic,(img_height, img_width))\n",
    "            data.append([pic])\n",
    "            label.append(i)\n",
    "    print(len(data), \" Images loaded\")\n",
    "    # Formating data\n",
    "    data = np.array(data)\n",
    "    data = data.reshape((data.shape[0], img_height, img_width, 3))\n",
    "    data = data.astype('float32')\n",
    "    label = np.array(label)\n",
    "    label = [i.split('-')[1] for i in label]\n",
    "    \n",
    "    return data, label"
   ]
  },
  {
   "cell_type": "markdown",
   "metadata": {},
   "source": [
    "Fit if zca_whitening is True"
   ]
  },
  {
   "cell_type": "code",
   "execution_count": 9,
   "metadata": {},
   "outputs": [],
   "source": [
    "if zca_whitening == True:\n",
    "    dataToFit, label = load_data(which='Train', categories=categories)\n",
    "    dataToFit = dataToFit.reshape((dataToFit.shape[0], img_height, img_width, 3))\n",
    "    dataToFit = dataToFit.astype('float32')\n",
    "    train_datagen.fit(dataToFit)\n",
    "    # If set to True, uses the CPU instead of GPU to train the model ; See with Denis why"
   ]
  },
  {
   "cell_type": "code",
   "execution_count": 10,
   "metadata": {},
   "outputs": [
    {
     "name": "stdout",
     "output_type": "stream",
     "text": [
      "Total number of images for \"training\":\n",
      "Found 12348 images belonging to 120 classes.\n",
      "Total number of images for \"validation\":\n",
      "Found 4116 images belonging to 120 classes.\n",
      "Total number of images for \"testing\":\n",
      "Found 4116 images belonging to 120 classes.\n"
     ]
    }
   ],
   "source": [
    "# Defining the generator\n",
    "print('Total number of images for \"training\":')\n",
    "train_generator = train_datagen.flow_from_directory(\n",
    "                                fullPathTrain,\n",
    "                                target_size = (img_height, img_width),\n",
    "                                batch_size = batch_size, \n",
    "                                class_mode = \"categorical\")\n",
    "\n",
    "print('Total number of images for \"validation\":')\n",
    "val_generator = test_datagen.flow_from_directory(\n",
    "                             fullPathVal,\n",
    "                             target_size = (img_height, img_width),\n",
    "                             batch_size = batch_size,\n",
    "                             class_mode = \"categorical\",\n",
    "                             shuffle=False)\n",
    "\n",
    "print('Total number of images for \"testing\":')\n",
    "test_generator = test_datagen.flow_from_directory(\n",
    "                              fullPathTest,\n",
    "                              target_size = (img_height, img_width),\n",
    "                              batch_size = batch_size,\n",
    "                              class_mode = \"categorical\",\n",
    "                              shuffle=False)"
   ]
  },
  {
   "cell_type": "code",
   "execution_count": 11,
   "metadata": {},
   "outputs": [],
   "source": [
    "# Model Builder\n",
    "if model_type == 1:\n",
    "    model = Sequential()\n",
    "    model.add(Conv2D(64, kernel_size=3, activation='relu', input_shape=(img_height,img_width,3)))\n",
    "    model.add(Conv2D(32, kernel_size=3, activation='relu', input_shape=(img_height,img_width,3)))\n",
    "    model.add(Conv2D(16, kernel_size=3, activation='relu', input_shape=(img_height,img_width,3)))\n",
    "    model.add(Conv2D(8, kernel_size=3, activation='relu'))\n",
    "    model.add(Flatten())\n",
    "    model.add(Dense(len(categories), activation='softmax'))\n",
    "    \n",
    "elif model_type == 2:\n",
    "    model = Sequential()\n",
    "    model.add(Conv2D(32, kernel_size=(5, 5), strides=(1, 1),\n",
    "                     activation='relu',\n",
    "                     input_shape=(img_height,img_width,3)))\n",
    "    model.add(MaxPooling2D(pool_size=(2, 2), strides=(2, 2)))\n",
    "    \n",
    "    model.add(Conv2D(64, (5, 5), activation='relu'))\n",
    "    model.add(MaxPooling2D(pool_size=(2, 2)))\n",
    "    model.add(Flatten())\n",
    "    \n",
    "    model.add(Dense(1000, activation='relu'))\n",
    "    model.add(Dense(len(categories), activation='softmax'))\n",
    "    \n",
    "elif model_type == 3:\n",
    "    model = Sequential()\n",
    "    model.add(Conv2D(8, kernel_size=(5, 5), strides=(1, 1),\n",
    "                     activation='relu',\n",
    "                     input_shape=(img_height,img_width,3)))\n",
    "    model.add(MaxPooling2D(pool_size=(2, 2), strides=(2, 2)))\n",
    "    \n",
    "    model.add(Conv2D(16, (5, 5), activation='relu'))\n",
    "    model.add(MaxPooling2D(pool_size=(2, 2)))\n",
    "    \n",
    "    model.add(Conv2D(32, kernel_size=(5, 5), strides=(1, 1),\n",
    "                     activation='relu'))\n",
    "    model.add(MaxPooling2D(pool_size=(2, 2), strides=(2, 2)))\n",
    "    \n",
    "    model.add(Conv2D(64, (5, 5), activation='relu'))\n",
    "    model.add(MaxPooling2D(pool_size=(2, 2)))\n",
    "    model.add(Flatten())\n",
    "    \n",
    "    model.add(Dense(1000, activation='relu'))\n",
    "    model.add(Dense(len(categories), activation='softmax'))\n",
    "    \n",
    "elif model_type == 4:\n",
    "    model = Sequential()\n",
    "    model.add(Conv2D(64, kernel_size=(5, 5), strides=(2, 2),\n",
    "                     activation='relu',\n",
    "                     input_shape=(img_height,img_width,3)))\n",
    "    model.add(MaxPooling2D(pool_size=(2, 2), strides=(1, 1)))\n",
    "    \n",
    "    model.add(Conv2D(32, (5, 5), activation='relu'))\n",
    "    model.add(MaxPooling2D(pool_size=(2, 2)))\n",
    "    model.add(Flatten())\n",
    "    \n",
    "    model.add(Dense(1000, activation='relu'))\n",
    "    model.add(Dense(len(categories), activation='softmax'))    "
   ]
  },
  {
   "cell_type": "code",
   "execution_count": 12,
   "metadata": {},
   "outputs": [],
   "source": [
    "# Optmizer and compilation\n",
    "opt = Adam(lr=learning_rate, clipnorm=1.)\n",
    "model.compile(loss='binary_crossentropy',\n",
    "              optimizer=opt,\n",
    "              metrics=['accuracy'])"
   ]
  },
  {
   "cell_type": "code",
   "execution_count": 13,
   "metadata": {},
   "outputs": [
    {
     "name": "stdout",
     "output_type": "stream",
     "text": [
      "Model: \"sequential\"\n",
      "_________________________________________________________________\n",
      "Layer (type)                 Output Shape              Param #   \n",
      "=================================================================\n",
      "conv2d (Conv2D)              (None, 76, 76, 8)         608       \n",
      "_________________________________________________________________\n",
      "max_pooling2d (MaxPooling2D) (None, 38, 38, 8)         0         \n",
      "_________________________________________________________________\n",
      "conv2d_1 (Conv2D)            (None, 34, 34, 16)        3216      \n",
      "_________________________________________________________________\n",
      "max_pooling2d_1 (MaxPooling2 (None, 17, 17, 16)        0         \n",
      "_________________________________________________________________\n",
      "conv2d_2 (Conv2D)            (None, 13, 13, 32)        12832     \n",
      "_________________________________________________________________\n",
      "max_pooling2d_2 (MaxPooling2 (None, 6, 6, 32)          0         \n",
      "_________________________________________________________________\n",
      "conv2d_3 (Conv2D)            (None, 2, 2, 64)          51264     \n",
      "_________________________________________________________________\n",
      "max_pooling2d_3 (MaxPooling2 (None, 1, 1, 64)          0         \n",
      "_________________________________________________________________\n",
      "flatten (Flatten)            (None, 64)                0         \n",
      "_________________________________________________________________\n",
      "dense (Dense)                (None, 1000)              65000     \n",
      "_________________________________________________________________\n",
      "dense_1 (Dense)              (None, 120)               120120    \n",
      "=================================================================\n",
      "Total params: 253,040\n",
      "Trainable params: 253,040\n",
      "Non-trainable params: 0\n",
      "_________________________________________________________________\n"
     ]
    }
   ],
   "source": [
    "model.summary()"
   ]
  },
  {
   "cell_type": "code",
   "execution_count": null,
   "metadata": {
    "scrolled": false
   },
   "outputs": [
    {
     "name": "stdout",
     "output_type": "stream",
     "text": [
      "Epoch 1/50\n",
      "240/240 [==============================] - 26s 110ms/step - loss: 0.0476 - accuracy: 0.0142 - val_loss: 0.0469 - val_accuracy: 0.0317\n",
      "Epoch 2/50\n",
      "240/240 [==============================] - 26s 110ms/step - loss: 0.0453 - accuracy: 0.0363 - val_loss: 0.0445 - val_accuracy: 0.0433\n",
      "Epoch 3/50\n",
      "240/240 [==============================] - 26s 110ms/step - loss: 0.0441 - accuracy: 0.0479 - val_loss: 0.0429 - val_accuracy: 0.0500\n",
      "Epoch 4/50\n",
      "240/240 [==============================] - 26s 109ms/step - loss: 0.0432 - accuracy: 0.0587 - val_loss: 0.0437 - val_accuracy: 0.0429\n",
      "Epoch 5/50\n",
      "135/240 [===============>..............] - ETA: 10s - loss: 0.0426 - accuracy: 0.0682"
     ]
    }
   ],
   "source": [
    "# Model fit via generator\n",
    "history = model.fit(train_generator,\n",
    "                    epochs=epochs,\n",
    "                    validation_data=val_generator,\n",
    "                    steps_per_epoch=steps_per_epoch,\n",
    "                    validation_steps=validation_steps,\n",
    "                    verbose=1)"
   ]
  },
  {
   "cell_type": "markdown",
   "metadata": {},
   "source": [
    "Ploting graph"
   ]
  },
  {
   "cell_type": "code",
   "execution_count": null,
   "metadata": {},
   "outputs": [],
   "source": [
    "\"\"\"path_img = save + str(index) + '/'\n",
    "try:\n",
    "    os.mkdir(path_img)\n",
    "except:\n",
    "    print('This directory already exists, please make sure that you changed the index')\"\"\"\n",
    "\n",
    "acc = history.history['accuracy']\n",
    "val_acc = history.history['val_accuracy']\n",
    "loss = history.history['loss']\n",
    "val_loss = history.history['val_loss']\n",
    "epochs = range(1,len(acc)+1)\n",
    "\n",
    "plt.figure()\n",
    "plt.plot(epochs, acc, 'b', label = 'Training accuracy')\n",
    "plt.plot(epochs, val_acc, 'r', label='Validation accuracy')\n",
    "plt.title('Training and validation accuracy')\n",
    "plt.legend()\n",
    "#plt.savefig(path_img + 'Accuracy.jpg')\n",
    "plt.plot()\n",
    "\n",
    "plt.figure()\n",
    "plt.plot(epochs, loss, 'b', label = 'Training loss')\n",
    "plt.plot(epochs, val_loss, 'r', label='Validation loss')\n",
    "plt.title('Training and validation loss')\n",
    "plt.legend()\n",
    "#plt.savefig(path_img + 'Loss.jpg')\n",
    "plt.plot()"
   ]
  },
  {
   "cell_type": "markdown",
   "metadata": {},
   "source": [
    "Saving best scores"
   ]
  },
  {
   "cell_type": "code",
   "execution_count": null,
   "metadata": {},
   "outputs": [],
   "source": [
    "val_acc = max(history.history['val_accuracy'])\n",
    "val_loss = max(history.history['val_loss'])\n",
    "\n",
    "dataset['Validation Accuracy'] = val_acc\n",
    "dataset['Validation Loss'] = val_loss"
   ]
  },
  {
   "cell_type": "code",
   "execution_count": null,
   "metadata": {},
   "outputs": [],
   "source": [
    "\"\"\"try:\n",
    "    logs = pd.read_csv(save + 'logs.csv')\n",
    "    logs = pd.concat([logs, dataset])\n",
    "    logs.to_csv(save + 'logs.csv')\n",
    "except:\n",
    "    dataset.to_csv(save + 'logs.csv')\"\"\""
   ]
  },
  {
   "cell_type": "code",
   "execution_count": null,
   "metadata": {},
   "outputs": [],
   "source": [
    "\"\"\"for i in dataset['Index']:\n",
    "    print(dataset.loc[0, 'Validation Accuracy'])\"\"\""
   ]
  },
  {
   "cell_type": "code",
   "execution_count": null,
   "metadata": {},
   "outputs": [],
   "source": [
    "import keras\n",
    "from numba import cuda\n",
    "# Clearing session as we will train model many time\n",
    "keras.backend.clear_session()\n",
    "# Releasing gpu memory directly with cuda\n",
    "cuda.select_device(0)\n",
    "cuda.close()"
   ]
  },
  {
   "cell_type": "code",
   "execution_count": null,
   "metadata": {},
   "outputs": [],
   "source": []
  }
 ],
 "metadata": {
  "kernelspec": {
   "display_name": "Python 3",
   "language": "python",
   "name": "python3"
  },
  "language_info": {
   "codemirror_mode": {
    "name": "ipython",
    "version": 3
   },
   "file_extension": ".py",
   "mimetype": "text/x-python",
   "name": "python",
   "nbconvert_exporter": "python",
   "pygments_lexer": "ipython3",
   "version": "3.8.3"
  }
 },
 "nbformat": 4,
 "nbformat_minor": 4
}

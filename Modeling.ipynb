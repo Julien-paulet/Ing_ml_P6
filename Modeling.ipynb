{
 "cells": [
  {
   "cell_type": "code",
   "execution_count": 1,
   "metadata": {},
   "outputs": [],
   "source": [
    "import os\n",
    "import pandas as pd\n",
    "import numpy as np\n",
    "import keras\n",
    "from keras.preprocessing.image import ImageDataGenerator\n",
    "from keras.layers import Dense, Conv2D, Flatten, MaxPooling2D\n",
    "#from tensorflow.python.keras.preprocessing.image import ImageDataGenerator, load_img\n",
    "import matplotlib.pyplot as plt\n",
    "import cv2\n",
    "import warnings\n",
    "import tensorflow as tf\n",
    "from keras.models import Sequential\n",
    "from keras.optimizers import Adam\n",
    "tf.random.set_seed(42)\n",
    "#warnings.filterwarnings(\"ignore\")"
   ]
  },
  {
   "cell_type": "markdown",
   "metadata": {},
   "source": [
    "Init variables (in the script for now, via config file later)"
   ]
  },
  {
   "cell_type": "code",
   "execution_count": 2,
   "metadata": {},
   "outputs": [],
   "source": [
    "config = None\n",
    "\n",
    "# Global\n",
    "index = 0\n",
    "\n",
    "# For data\n",
    "path = '/home/mlmaster/Code/Ing_ml_P6/dataset/'\n",
    "img_height = 80\n",
    "img_width = 80\n",
    "zca_whitening = True\n",
    "horizontal_flip = True\n",
    "\n",
    "# For model\n",
    "model_type = 3\n",
    "batch_size = 50\n",
    "learning_rate = 0.001\n",
    "epochs = 50\n",
    "steps_per_epoch = int(12000 / (batch_size))\n",
    "validation_steps = int(1200 / (batch_size))\n",
    "\n",
    "# For Logs\n",
    "save = \"/home/mlmaster/Code/Ing_ml_P6/logs/\""
   ]
  },
  {
   "cell_type": "markdown",
   "metadata": {},
   "source": [
    "Building Dataset for logs"
   ]
  },
  {
   "cell_type": "code",
   "execution_count": 3,
   "metadata": {},
   "outputs": [],
   "source": [
    "dataset = [index, img_height, img_width, batch_size,\n",
    "           learning_rate, epochs, steps_per_epoch,\n",
    "           validation_steps, zca_whitening, horizontal_flip,\n",
    "           model_type]\n",
    "\n",
    "dataset = pd.DataFrame(dataset).T\n",
    "dataset = dataset.rename(columns={0:'Index', 1:'Img Height', 2:'Img Width', 3:'Batch Size',\n",
    "                                  4:'Learning Rate', 5:'Epochs', 6:'Steps Per Epoch',\n",
    "                                  7:'validation Steps', 8:'Zca Whitening', 9:'Horizontal Flip',\n",
    "                                  10:'Model Type'})"
   ]
  },
  {
   "cell_type": "code",
   "execution_count": 4,
   "metadata": {},
   "outputs": [
    {
     "data": {
      "text/html": [
       "<div>\n",
       "<style scoped>\n",
       "    .dataframe tbody tr th:only-of-type {\n",
       "        vertical-align: middle;\n",
       "    }\n",
       "\n",
       "    .dataframe tbody tr th {\n",
       "        vertical-align: top;\n",
       "    }\n",
       "\n",
       "    .dataframe thead th {\n",
       "        text-align: right;\n",
       "    }\n",
       "</style>\n",
       "<table border=\"1\" class=\"dataframe\">\n",
       "  <thead>\n",
       "    <tr style=\"text-align: right;\">\n",
       "      <th></th>\n",
       "      <th>Index</th>\n",
       "      <th>Img Height</th>\n",
       "      <th>Img Width</th>\n",
       "      <th>Batch Size</th>\n",
       "      <th>Learning Rate</th>\n",
       "      <th>Epochs</th>\n",
       "      <th>Steps Per Epoch</th>\n",
       "      <th>validation Steps</th>\n",
       "      <th>Zca Whitening</th>\n",
       "      <th>Horizontal Flip</th>\n",
       "      <th>Model Type</th>\n",
       "    </tr>\n",
       "  </thead>\n",
       "  <tbody>\n",
       "    <tr>\n",
       "      <th>0</th>\n",
       "      <td>0</td>\n",
       "      <td>100</td>\n",
       "      <td>100</td>\n",
       "      <td>50</td>\n",
       "      <td>0.001</td>\n",
       "      <td>50</td>\n",
       "      <td>240</td>\n",
       "      <td>24</td>\n",
       "      <td>False</td>\n",
       "      <td>True</td>\n",
       "      <td>3</td>\n",
       "    </tr>\n",
       "  </tbody>\n",
       "</table>\n",
       "</div>"
      ],
      "text/plain": [
       "  Index Img Height Img Width Batch Size Learning Rate Epochs Steps Per Epoch  \\\n",
       "0     0        100       100         50         0.001     50             240   \n",
       "\n",
       "  validation Steps Zca Whitening Horizontal Flip Model Type  \n",
       "0               24         False            True          3  "
      ]
     },
     "execution_count": 4,
     "metadata": {},
     "output_type": "execute_result"
    }
   ],
   "source": [
    "dataset"
   ]
  },
  {
   "cell_type": "code",
   "execution_count": 5,
   "metadata": {},
   "outputs": [],
   "source": [
    "# Locked variable, does not change with config file\n",
    "train = 'Train/'\n",
    "val = 'Validation/'\n",
    "test = 'Test/'\n",
    "fullPathTrain = path + train\n",
    "fullPathVal = path + val\n",
    "fullPathTest = path + test\n",
    "\n",
    "# For model\n",
    "train_datagen =  ImageDataGenerator(\n",
    "    zca_whitening=zca_whitening,\n",
    "    horizontal_flip=horizontal_flip,\n",
    "    rescale=1./255\n",
    ")\n",
    "\n",
    "val_datagen =  ImageDataGenerator(\n",
    "    rescale=1./255\n",
    ")\n",
    "\n",
    "test_datagen =  ImageDataGenerator(\n",
    "    rescale=1./255\n",
    ")"
   ]
  },
  {
   "cell_type": "code",
   "execution_count": 6,
   "metadata": {},
   "outputs": [],
   "source": [
    "#setting the path to the directory containing the pics\n",
    "categories = []\n",
    "for i in os.listdir(fullPathTrain):\n",
    "    categories.append(i)"
   ]
  },
  {
   "cell_type": "code",
   "execution_count": 7,
   "metadata": {},
   "outputs": [],
   "source": [
    "def load_data(which='Train', categories=categories):\n",
    "    \n",
    "    \"\"\"Function that loads data and resize the images\"\"\"\n",
    "    \n",
    "    if which == 'Train':\n",
    "        path = fullPathTrain\n",
    "        print('Loading Train Data')\n",
    "    elif which == 'Val':\n",
    "        path = fullPathVal\n",
    "        print('Loading Validation Data')\n",
    "    elif which == 'Test':\n",
    "        path = fullPathTest\n",
    "        print('Loading Test Data')\n",
    "    else:\n",
    "        print('error, which must be either : Train, Val, Test')\n",
    "    data = []\n",
    "    label = []\n",
    "    for i in categories:\n",
    "        for img in os.listdir(path + i):\n",
    "            pic = cv2.imread(os.path.join(path + i,img))\n",
    "            pic = cv2.cvtColor(pic,cv2.COLOR_BGR2RGB)\n",
    "            pic = cv2.resize(pic,(img_height, img_width))\n",
    "            data.append([pic])\n",
    "            label.append(i)\n",
    "    print(len(data), \" Images loaded\")\n",
    "    # Formating data\n",
    "    data = np.array(data)\n",
    "    data = data.reshape((data.shape[0], img_height, img_width, 3))\n",
    "    data = data.astype('float32')\n",
    "    label = np.array(label)\n",
    "    label = [i.split('-')[1] for i in label]\n",
    "    \n",
    "    return data, label"
   ]
  },
  {
   "cell_type": "markdown",
   "metadata": {},
   "source": [
    "Fit if zca_whitening is True"
   ]
  },
  {
   "cell_type": "code",
   "execution_count": 8,
   "metadata": {},
   "outputs": [],
   "source": [
    "if zca_whitening == True:\n",
    "    dataToFit, label = load_data(which='Train', categories=categories)\n",
    "    dataToFit = dataToFit.reshape((dataToFit.shape[0], img_height, img_width, 3))\n",
    "    dataToFit = dataToFit.astype('float32')\n",
    "    train_datagen.fit(dataToFit)\n",
    "    # This fail with error :\n",
    "    # \"ValueError: Too large work array required -- \n",
    "    # computation cannot be performed with standard 32-bit LAPACK.\""
   ]
  },
  {
   "cell_type": "code",
   "execution_count": 9,
   "metadata": {},
   "outputs": [
    {
     "name": "stdout",
     "output_type": "stream",
     "text": [
      "Total number of images for \"training\":\n",
      "Found 12348 images belonging to 120 classes.\n",
      "Total number of images for \"validation\":\n",
      "Found 4116 images belonging to 120 classes.\n",
      "Total number of images for \"testing\":\n",
      "Found 4116 images belonging to 120 classes.\n"
     ]
    }
   ],
   "source": [
    "# Defining the generator\n",
    "print('Total number of images for \"training\":')\n",
    "train_generator = train_datagen.flow_from_directory(\n",
    "                                fullPathTrain,\n",
    "                                target_size = (img_height, img_width),\n",
    "                                batch_size = batch_size, \n",
    "                                class_mode = \"categorical\")\n",
    "\n",
    "print('Total number of images for \"validation\":')\n",
    "val_generator = test_datagen.flow_from_directory(\n",
    "                             fullPathVal,\n",
    "                             target_size = (img_height, img_width),\n",
    "                             batch_size = batch_size,\n",
    "                             class_mode = \"categorical\",\n",
    "                             shuffle=False)\n",
    "\n",
    "print('Total number of images for \"testing\":')\n",
    "test_generator = test_datagen.flow_from_directory(\n",
    "                              fullPathTest,\n",
    "                              target_size = (img_height, img_width),\n",
    "                              batch_size = batch_size,\n",
    "                              class_mode = \"categorical\",\n",
    "                              shuffle=False)"
   ]
  },
  {
   "cell_type": "code",
   "execution_count": 10,
   "metadata": {},
   "outputs": [],
   "source": [
    "# Model Builder\n",
    "if model_type == 1:\n",
    "    model = Sequential()\n",
    "    model.add(Conv2D(64, kernel_size=3, activation='relu', input_shape=(img_height,img_width,3)))\n",
    "    model.add(Conv2D(32, kernel_size=3, activation='relu', input_shape=(img_height,img_width,3)))\n",
    "    model.add(Conv2D(16, kernel_size=3, activation='relu', input_shape=(img_height,img_width,3)))\n",
    "    model.add(Conv2D(8, kernel_size=3, activation='relu'))\n",
    "    model.add(Flatten())\n",
    "    model.add(Dense(len(categories), activation='softmax'))\n",
    "    \n",
    "elif model_type == 2:\n",
    "    model = Sequential()\n",
    "    model.add(Conv2D(32, kernel_size=(5, 5), strides=(1, 1),\n",
    "                     activation='relu',\n",
    "                     input_shape=(img_height,img_width,3)))\n",
    "    model.add(MaxPooling2D(pool_size=(2, 2), strides=(2, 2)))\n",
    "    \n",
    "    model.add(Conv2D(64, (5, 5), activation='relu'))\n",
    "    model.add(MaxPooling2D(pool_size=(2, 2)))\n",
    "    model.add(Flatten())\n",
    "    \n",
    "    model.add(Dense(1000, activation='relu'))\n",
    "    model.add(Dense(len(categories), activation='softmax'))\n",
    "    \n",
    "elif model_type == 3:\n",
    "    model = Sequential()\n",
    "    model.add(Conv2D(8, kernel_size=(5, 5), strides=(1, 1),\n",
    "                     activation='relu',\n",
    "                     input_shape=(img_height,img_width,3)))\n",
    "    model.add(MaxPooling2D(pool_size=(2, 2), strides=(2, 2)))\n",
    "    \n",
    "    model.add(Conv2D(16, (5, 5), activation='relu'))\n",
    "    model.add(MaxPooling2D(pool_size=(2, 2)))\n",
    "    \n",
    "    model.add(Conv2D(32, kernel_size=(5, 5), strides=(1, 1),\n",
    "                     activation='relu'))\n",
    "    model.add(MaxPooling2D(pool_size=(2, 2), strides=(2, 2)))\n",
    "    \n",
    "    model.add(Conv2D(64, (5, 5), activation='relu'))\n",
    "    model.add(MaxPooling2D(pool_size=(2, 2)))\n",
    "    model.add(Flatten())\n",
    "    \n",
    "    model.add(Dense(1000, activation='relu'))\n",
    "    model.add(Dense(len(categories), activation='softmax'))\n",
    "    \n",
    "elif model_type == 4:\n",
    "    model = Sequential()\n",
    "    model.add(Conv2D(64, kernel_size=(5, 5), strides=(2, 2),\n",
    "                     activation='relu',\n",
    "                     input_shape=(img_height,img_width,3)))\n",
    "    model.add(MaxPooling2D(pool_size=(2, 2), strides=(1, 1)))\n",
    "    \n",
    "    model.add(Conv2D(32, (5, 5), activation='relu'))\n",
    "    model.add(MaxPooling2D(pool_size=(2, 2)))\n",
    "    model.add(Flatten())\n",
    "    \n",
    "    model.add(Dense(1000, activation='relu'))\n",
    "    model.add(Dense(len(categories), activation='softmax'))    "
   ]
  },
  {
   "cell_type": "code",
   "execution_count": 11,
   "metadata": {},
   "outputs": [],
   "source": [
    "# Optmizer and compilation\n",
    "opt = Adam(lr=learning_rate, clipnorm=1.)\n",
    "model.compile(loss='binary_crossentropy',\n",
    "              optimizer=opt,\n",
    "              metrics=['accuracy'])"
   ]
  },
  {
   "cell_type": "code",
   "execution_count": 12,
   "metadata": {},
   "outputs": [
    {
     "name": "stdout",
     "output_type": "stream",
     "text": [
      "Model: \"sequential\"\n",
      "_________________________________________________________________\n",
      "Layer (type)                 Output Shape              Param #   \n",
      "=================================================================\n",
      "conv2d (Conv2D)              (None, 96, 96, 8)         608       \n",
      "_________________________________________________________________\n",
      "max_pooling2d (MaxPooling2D) (None, 48, 48, 8)         0         \n",
      "_________________________________________________________________\n",
      "conv2d_1 (Conv2D)            (None, 44, 44, 16)        3216      \n",
      "_________________________________________________________________\n",
      "max_pooling2d_1 (MaxPooling2 (None, 22, 22, 16)        0         \n",
      "_________________________________________________________________\n",
      "conv2d_2 (Conv2D)            (None, 18, 18, 32)        12832     \n",
      "_________________________________________________________________\n",
      "max_pooling2d_2 (MaxPooling2 (None, 9, 9, 32)          0         \n",
      "_________________________________________________________________\n",
      "conv2d_3 (Conv2D)            (None, 5, 5, 64)          51264     \n",
      "_________________________________________________________________\n",
      "max_pooling2d_3 (MaxPooling2 (None, 2, 2, 64)          0         \n",
      "_________________________________________________________________\n",
      "flatten (Flatten)            (None, 256)               0         \n",
      "_________________________________________________________________\n",
      "dense (Dense)                (None, 1000)              257000    \n",
      "_________________________________________________________________\n",
      "dense_1 (Dense)              (None, 120)               120120    \n",
      "=================================================================\n",
      "Total params: 445,040\n",
      "Trainable params: 445,040\n",
      "Non-trainable params: 0\n",
      "_________________________________________________________________\n"
     ]
    }
   ],
   "source": [
    "model.summary()"
   ]
  },
  {
   "cell_type": "code",
   "execution_count": 13,
   "metadata": {
    "scrolled": false
   },
   "outputs": [
    {
     "name": "stdout",
     "output_type": "stream",
     "text": [
      "Epoch 1/50\n",
      "240/240 [==============================] - 34s 139ms/step - loss: 0.1107 - accuracy: 0.0114 - val_loss: 0.0483 - val_accuracy: 0.0042\n",
      "Epoch 2/50\n",
      "240/240 [==============================] - 33s 138ms/step - loss: 0.0489 - accuracy: 0.0116 - val_loss: 0.0475 - val_accuracy: 0.0350\n",
      "Epoch 3/50\n",
      "240/240 [==============================] - 33s 138ms/step - loss: 0.0475 - accuracy: 0.0167 - val_loss: 0.0471 - val_accuracy: 0.0375\n",
      "Epoch 4/50\n",
      "240/240 [==============================] - 33s 138ms/step - loss: 0.0469 - accuracy: 0.0245 - val_loss: 0.0468 - val_accuracy: 0.0283\n",
      "Epoch 5/50\n",
      "240/240 [==============================] - 33s 137ms/step - loss: 0.0460 - accuracy: 0.0337 - val_loss: 0.0466 - val_accuracy: 0.0142\n",
      "Epoch 6/50\n",
      "240/240 [==============================] - 33s 138ms/step - loss: 0.0452 - accuracy: 0.0386 - val_loss: 0.0469 - val_accuracy: 0.0433\n",
      "Epoch 7/50\n",
      "240/240 [==============================] - 33s 138ms/step - loss: 0.0444 - accuracy: 0.0439 - val_loss: 0.0453 - val_accuracy: 0.0492\n",
      "Epoch 8/50\n",
      "240/240 [==============================] - 33s 139ms/step - loss: 0.0440 - accuracy: 0.0538 - val_loss: 0.0431 - val_accuracy: 0.0808\n",
      "Epoch 9/50\n",
      "240/240 [==============================] - 33s 138ms/step - loss: 0.0432 - accuracy: 0.0603 - val_loss: 0.0435 - val_accuracy: 0.0583\n",
      "Epoch 10/50\n",
      "240/240 [==============================] - 34s 140ms/step - loss: 0.0426 - accuracy: 0.0751 - val_loss: 0.0433 - val_accuracy: 0.0667\n",
      "Epoch 11/50\n",
      "240/240 [==============================] - 34s 141ms/step - loss: 0.0422 - accuracy: 0.0801 - val_loss: 0.0439 - val_accuracy: 0.0717\n",
      "Epoch 12/50\n",
      "240/240 [==============================] - 34s 143ms/step - loss: 0.0416 - accuracy: 0.0869 - val_loss: 0.0434 - val_accuracy: 0.0800\n",
      "Epoch 13/50\n",
      "240/240 [==============================] - 33s 139ms/step - loss: 0.0411 - accuracy: 0.0982 - val_loss: 0.0439 - val_accuracy: 0.0633\n",
      "Epoch 14/50\n",
      "240/240 [==============================] - 33s 139ms/step - loss: 0.0405 - accuracy: 0.1080 - val_loss: 0.0428 - val_accuracy: 0.0800\n",
      "Epoch 15/50\n",
      "240/240 [==============================] - 33s 139ms/step - loss: 0.0399 - accuracy: 0.1195 - val_loss: 0.0424 - val_accuracy: 0.0925\n",
      "Epoch 16/50\n",
      "240/240 [==============================] - 33s 139ms/step - loss: 0.0391 - accuracy: 0.1369 - val_loss: 0.0422 - val_accuracy: 0.1158\n",
      "Epoch 17/50\n",
      "240/240 [==============================] - 33s 139ms/step - loss: 0.0388 - accuracy: 0.1400 - val_loss: 0.0428 - val_accuracy: 0.1167\n",
      "Epoch 18/50\n",
      "240/240 [==============================] - 33s 139ms/step - loss: 0.0381 - accuracy: 0.1507 - val_loss: 0.0417 - val_accuracy: 0.1125\n",
      "Epoch 19/50\n",
      "240/240 [==============================] - 33s 139ms/step - loss: 0.0371 - accuracy: 0.1657 - val_loss: 0.0413 - val_accuracy: 0.1325\n",
      "Epoch 20/50\n",
      "240/240 [==============================] - 33s 139ms/step - loss: 0.0364 - accuracy: 0.1873 - val_loss: 0.0426 - val_accuracy: 0.1342\n",
      "Epoch 21/50\n",
      "240/240 [==============================] - 518s 2s/step - loss: 0.0353 - accuracy: 0.2052 - val_loss: 0.0437 - val_accuracy: 0.0950\n",
      "Epoch 22/50\n",
      "240/240 [==============================] - 33s 138ms/step - loss: 0.0344 - accuracy: 0.2259 - val_loss: 0.0442 - val_accuracy: 0.1142\n",
      "Epoch 23/50\n",
      "240/240 [==============================] - 33s 138ms/step - loss: 0.0337 - accuracy: 0.2451 - val_loss: 0.0440 - val_accuracy: 0.1117\n",
      "Epoch 24/50\n",
      "240/240 [==============================] - 33s 139ms/step - loss: 0.0324 - accuracy: 0.2739 - val_loss: 0.0441 - val_accuracy: 0.1150\n",
      "Epoch 25/50\n",
      "240/240 [==============================] - 33s 138ms/step - loss: 0.0316 - accuracy: 0.2950 - val_loss: 0.0449 - val_accuracy: 0.1250\n",
      "Epoch 26/50\n",
      "240/240 [==============================] - 33s 139ms/step - loss: 0.0304 - accuracy: 0.3307 - val_loss: 0.0460 - val_accuracy: 0.1175\n",
      "Epoch 27/50\n",
      "240/240 [==============================] - 33s 138ms/step - loss: 0.0294 - accuracy: 0.3478 - val_loss: 0.0465 - val_accuracy: 0.1158\n",
      "Epoch 28/50\n",
      "240/240 [==============================] - 33s 139ms/step - loss: 0.0283 - accuracy: 0.3704 - val_loss: 0.0482 - val_accuracy: 0.1175\n",
      "Epoch 29/50\n",
      "240/240 [==============================] - 33s 139ms/step - loss: 0.0275 - accuracy: 0.3816 - val_loss: 0.0503 - val_accuracy: 0.1192\n",
      "Epoch 30/50\n",
      "240/240 [==============================] - 34s 142ms/step - loss: 0.0261 - accuracy: 0.4335 - val_loss: 0.0497 - val_accuracy: 0.1117\n",
      "Epoch 31/50\n",
      "240/240 [==============================] - 34s 141ms/step - loss: 0.0250 - accuracy: 0.4591 - val_loss: 0.0525 - val_accuracy: 0.1075\n",
      "Epoch 32/50\n",
      "240/240 [==============================] - 33s 139ms/step - loss: 0.0237 - accuracy: 0.4928 - val_loss: 0.0515 - val_accuracy: 0.1358\n",
      "Epoch 33/50\n",
      "240/240 [==============================] - 33s 138ms/step - loss: 0.0227 - accuracy: 0.5205 - val_loss: 0.0551 - val_accuracy: 0.1133\n",
      "Epoch 34/50\n",
      "240/240 [==============================] - 33s 139ms/step - loss: 0.0217 - accuracy: 0.5368 - val_loss: 0.0590 - val_accuracy: 0.1008\n",
      "Epoch 35/50\n",
      "240/240 [==============================] - 33s 139ms/step - loss: 0.0203 - accuracy: 0.5820 - val_loss: 0.0603 - val_accuracy: 0.1008\n",
      "Epoch 36/50\n",
      "240/240 [==============================] - 33s 139ms/step - loss: 0.0195 - accuracy: 0.6046 - val_loss: 0.0638 - val_accuracy: 0.0950\n",
      "Epoch 37/50\n",
      "240/240 [==============================] - 33s 139ms/step - loss: 0.0188 - accuracy: 0.6169 - val_loss: 0.0651 - val_accuracy: 0.1025\n",
      "Epoch 38/50\n",
      "240/240 [==============================] - 33s 139ms/step - loss: 0.0177 - accuracy: 0.6475 - val_loss: 0.0659 - val_accuracy: 0.1000\n",
      "Epoch 39/50\n",
      "240/240 [==============================] - 33s 139ms/step - loss: 0.0169 - accuracy: 0.6671 - val_loss: 0.0669 - val_accuracy: 0.1233\n",
      "Epoch 40/50\n",
      "240/240 [==============================] - 33s 139ms/step - loss: 0.0162 - accuracy: 0.6907 - val_loss: 0.0708 - val_accuracy: 0.1108\n",
      "Epoch 41/50\n",
      "240/240 [==============================] - 33s 139ms/step - loss: 0.0151 - accuracy: 0.7231 - val_loss: 0.0733 - val_accuracy: 0.1108\n",
      "Epoch 42/50\n",
      "240/240 [==============================] - 33s 139ms/step - loss: 0.0144 - accuracy: 0.7343 - val_loss: 0.0781 - val_accuracy: 0.0958\n",
      "Epoch 43/50\n",
      "240/240 [==============================] - 33s 139ms/step - loss: 0.0139 - accuracy: 0.7493 - val_loss: 0.0757 - val_accuracy: 0.1050\n",
      "Epoch 44/50\n",
      "240/240 [==============================] - 33s 139ms/step - loss: 0.0130 - accuracy: 0.7762 - val_loss: 0.0811 - val_accuracy: 0.1042\n",
      "Epoch 45/50\n",
      "240/240 [==============================] - 33s 139ms/step - loss: 0.0122 - accuracy: 0.7953 - val_loss: 0.0856 - val_accuracy: 0.1008\n",
      "Epoch 46/50\n",
      "240/240 [==============================] - 33s 138ms/step - loss: 0.0118 - accuracy: 0.8098 - val_loss: 0.0856 - val_accuracy: 0.0967\n",
      "Epoch 47/50\n",
      "240/240 [==============================] - 33s 139ms/step - loss: 0.0108 - accuracy: 0.8238 - val_loss: 0.0884 - val_accuracy: 0.1033\n",
      "Epoch 48/50\n",
      "240/240 [==============================] - 33s 139ms/step - loss: 0.0106 - accuracy: 0.8307 - val_loss: 0.0914 - val_accuracy: 0.1025\n",
      "Epoch 49/50\n",
      "240/240 [==============================] - 33s 139ms/step - loss: 0.0098 - accuracy: 0.8422 - val_loss: 0.0938 - val_accuracy: 0.1200\n",
      "Epoch 50/50\n",
      "240/240 [==============================] - 34s 140ms/step - loss: 0.0098 - accuracy: 0.8511 - val_loss: 0.0969 - val_accuracy: 0.1125\n"
     ]
    }
   ],
   "source": [
    "# Model fit via generator\n",
    "history = model.fit(train_generator,\n",
    "                    epochs=epochs,\n",
    "                    validation_data=val_generator,\n",
    "                    steps_per_epoch=steps_per_epoch,\n",
    "                    validation_steps=validation_steps,\n",
    "                    verbose=1)"
   ]
  },
  {
   "cell_type": "markdown",
   "metadata": {},
   "source": [
    "Ploting graph"
   ]
  },
  {
   "cell_type": "code",
   "execution_count": 14,
   "metadata": {},
   "outputs": [
    {
     "name": "stdout",
     "output_type": "stream",
     "text": [
      "This directory already exists, please make sure that you changed the index\n"
     ]
    },
    {
     "data": {
      "text/plain": [
       "[]"
      ]
     },
     "execution_count": 14,
     "metadata": {},
     "output_type": "execute_result"
    },
    {
     "data": {
      "image/png": "[encoded data removed]",
      "text/plain": [
       "<Figure size 432x288 with 1 Axes>"
      ]
     },
     "metadata": {
      "needs_background": "light"
     },
     "output_type": "display_data"
    },
    {
     "data": {
      "image/png": "[encoded data removed]",
      "text/plain": [
       "<Figure size 432x288 with 1 Axes>"
      ]
     },
     "metadata": {
      "needs_background": "light"
     },
     "output_type": "display_data"
    }
   ],
   "source": [
    "path_img = save + str(index) + '/'\n",
    "try:\n",
    "    os.mkdir(path_img)\n",
    "except:\n",
    "    print('This directory already exists, please make sure that you changed the index')\n",
    "\n",
    "acc = history.history['accuracy']\n",
    "val_acc = history.history['val_accuracy']\n",
    "loss = history.history['loss']\n",
    "val_loss = history.history['val_loss']\n",
    "epochs = range(1,len(acc)+1)\n",
    "\n",
    "plt.figure()\n",
    "plt.plot(epochs, acc, 'b', label = 'Training accuracy')\n",
    "plt.plot(epochs, val_acc, 'r', label='Validation accuracy')\n",
    "plt.title('Training and validation accuracy')\n",
    "plt.legend()\n",
    "plt.savefig(path_img + 'Accuracy.jpg')\n",
    "plt.plot()\n",
    "\n",
    "plt.figure()\n",
    "plt.plot(epochs, loss, 'b', label = 'Training loss')\n",
    "plt.plot(epochs, val_loss, 'r', label='Validation loss')\n",
    "plt.title('Training and validation loss')\n",
    "plt.legend()\n",
    "plt.savefig(path_img + 'Loss.jpg')\n",
    "plt.plot()"
   ]
  },
  {
   "cell_type": "markdown",
   "metadata": {},
   "source": [
    "Saving best scores"
   ]
  },
  {
   "cell_type": "code",
   "execution_count": 15,
   "metadata": {},
   "outputs": [],
   "source": [
    "val_acc = max(history.history['val_accuracy'])\n",
    "val_loss = max(history.history['val_loss'])\n",
    "\n",
    "dataset['Validation Accuracy'] = val_acc\n",
    "dataset['Validation Loss'] = val_loss"
   ]
  },
  {
   "cell_type": "code",
   "execution_count": 22,
   "metadata": {},
   "outputs": [],
   "source": [
    "try:\n",
    "    logs = pd.read_csv(save + 'logs.csv')\n",
    "    logs = pd.concat([logs, dataset])\n",
    "    logs.to_csv(save + 'logs.csv')\n",
    "except:\n",
    "    dataset.to_csv(save + 'logs.csv')"
   ]
  },
  {
   "cell_type": "code",
   "execution_count": 32,
   "metadata": {},
   "outputs": [
    {
     "name": "stdout",
     "output_type": "stream",
     "text": [
      "0.13583333790302277\n"
     ]
    }
   ],
   "source": [
    "for i in dataset['Index']:\n",
    "    print(dataset.loc[0, 'Validation Accuracy'])"
   ]
  },
  {
   "cell_type": "code",
   "execution_count": 17,
   "metadata": {},
   "outputs": [
    {
     "ename": "CudaAPIError",
     "evalue": "[999] Call to cuDevicePrimaryCtxRetain results in CUDA_ERROR_UNKNOWN",
     "output_type": "error",
     "traceback": [
      "\u001b[0;31m---------------------------------------------------------------------------\u001b[0m",
      "\u001b[0;31mCudaAPIError\u001b[0m                              Traceback (most recent call last)",
      "\u001b[0;32m<ipython-input-17-3e20cf410e44>\u001b[0m in \u001b[0;36m<module>\u001b[0;34m\u001b[0m\n\u001b[1;32m      4\u001b[0m \u001b[0mkeras\u001b[0m\u001b[0;34m.\u001b[0m\u001b[0mbackend\u001b[0m\u001b[0;34m.\u001b[0m\u001b[0mclear_session\u001b[0m\u001b[0;34m(\u001b[0m\u001b[0;34m)\u001b[0m\u001b[0;34m\u001b[0m\u001b[0;34m\u001b[0m\u001b[0m\n\u001b[1;32m      5\u001b[0m \u001b[0;31m# Releasing gpu memory directly with cuda\u001b[0m\u001b[0;34m\u001b[0m\u001b[0;34m\u001b[0m\u001b[0;34m\u001b[0m\u001b[0m\n\u001b[0;32m----> 6\u001b[0;31m \u001b[0mcuda\u001b[0m\u001b[0;34m.\u001b[0m\u001b[0mselect_device\u001b[0m\u001b[0;34m(\u001b[0m\u001b[0;36m0\u001b[0m\u001b[0;34m)\u001b[0m\u001b[0;34m\u001b[0m\u001b[0;34m\u001b[0m\u001b[0m\n\u001b[0m\u001b[1;32m      7\u001b[0m \u001b[0mcuda\u001b[0m\u001b[0;34m.\u001b[0m\u001b[0mclose\u001b[0m\u001b[0;34m(\u001b[0m\u001b[0;34m)\u001b[0m\u001b[0;34m\u001b[0m\u001b[0;34m\u001b[0m\u001b[0m\n",
      "\u001b[0;32m~/anaconda3/lib/python3.8/site-packages/numba/cuda/api.py\u001b[0m in \u001b[0;36mselect_device\u001b[0;34m(device_id)\u001b[0m\n\u001b[1;32m    367\u001b[0m     \u001b[0mRaises\u001b[0m \u001b[0mexception\u001b[0m \u001b[0mon\u001b[0m \u001b[0merror\u001b[0m\u001b[0;34m.\u001b[0m\u001b[0;34m\u001b[0m\u001b[0;34m\u001b[0m\u001b[0m\n\u001b[1;32m    368\u001b[0m     \"\"\"\n\u001b[0;32m--> 369\u001b[0;31m     \u001b[0mcontext\u001b[0m \u001b[0;34m=\u001b[0m \u001b[0mdevices\u001b[0m\u001b[0;34m.\u001b[0m\u001b[0mget_context\u001b[0m\u001b[0;34m(\u001b[0m\u001b[0mdevice_id\u001b[0m\u001b[0;34m)\u001b[0m\u001b[0;34m\u001b[0m\u001b[0;34m\u001b[0m\u001b[0m\n\u001b[0m\u001b[1;32m    370\u001b[0m     \u001b[0;32mreturn\u001b[0m \u001b[0mcontext\u001b[0m\u001b[0;34m.\u001b[0m\u001b[0mdevice\u001b[0m\u001b[0;34m\u001b[0m\u001b[0;34m\u001b[0m\u001b[0m\n\u001b[1;32m    371\u001b[0m \u001b[0;34m\u001b[0m\u001b[0m\n",
      "\u001b[0;32m~/anaconda3/lib/python3.8/site-packages/numba/cuda/cudadrv/devices.py\u001b[0m in \u001b[0;36mget_context\u001b[0;34m(devnum)\u001b[0m\n\u001b[1;32m    210\u001b[0m     \u001b[0;32mreturn\u001b[0m \u001b[0mthe\u001b[0m \u001b[0mCUDA\u001b[0m \u001b[0mcontext\u001b[0m\u001b[0;34m.\u001b[0m\u001b[0;34m\u001b[0m\u001b[0;34m\u001b[0m\u001b[0m\n\u001b[1;32m    211\u001b[0m     \"\"\"\n\u001b[0;32m--> 212\u001b[0;31m     \u001b[0;32mreturn\u001b[0m \u001b[0m_runtime\u001b[0m\u001b[0;34m.\u001b[0m\u001b[0mget_or_create_context\u001b[0m\u001b[0;34m(\u001b[0m\u001b[0mdevnum\u001b[0m\u001b[0;34m)\u001b[0m\u001b[0;34m\u001b[0m\u001b[0;34m\u001b[0m\u001b[0m\n\u001b[0m\u001b[1;32m    213\u001b[0m \u001b[0;34m\u001b[0m\u001b[0m\n\u001b[1;32m    214\u001b[0m \u001b[0;34m\u001b[0m\u001b[0m\n",
      "\u001b[0;32m~/anaconda3/lib/python3.8/site-packages/numba/cuda/cudadrv/devices.py\u001b[0m in \u001b[0;36mget_or_create_context\u001b[0;34m(self, devnum)\u001b[0m\n\u001b[1;32m    140\u001b[0m                 \u001b[0;32mreturn\u001b[0m \u001b[0mattached_ctx\u001b[0m\u001b[0;34m\u001b[0m\u001b[0;34m\u001b[0m\u001b[0m\n\u001b[1;32m    141\u001b[0m         \u001b[0;32melse\u001b[0m\u001b[0;34m:\u001b[0m\u001b[0;34m\u001b[0m\u001b[0;34m\u001b[0m\u001b[0m\n\u001b[0;32m--> 142\u001b[0;31m             \u001b[0;32mreturn\u001b[0m \u001b[0mself\u001b[0m\u001b[0;34m.\u001b[0m\u001b[0m_activate_context_for\u001b[0m\u001b[0;34m(\u001b[0m\u001b[0mdevnum\u001b[0m\u001b[0;34m)\u001b[0m\u001b[0;34m\u001b[0m\u001b[0;34m\u001b[0m\u001b[0m\n\u001b[0m\u001b[1;32m    143\u001b[0m \u001b[0;34m\u001b[0m\u001b[0m\n\u001b[1;32m    144\u001b[0m     \u001b[0;32mdef\u001b[0m \u001b[0m_get_or_create_context_uncached\u001b[0m\u001b[0;34m(\u001b[0m\u001b[0mself\u001b[0m\u001b[0;34m,\u001b[0m \u001b[0mdevnum\u001b[0m\u001b[0;34m)\u001b[0m\u001b[0;34m:\u001b[0m\u001b[0;34m\u001b[0m\u001b[0;34m\u001b[0m\u001b[0m\n",
      "\u001b[0;32m~/anaconda3/lib/python3.8/site-packages/numba/cuda/cudadrv/devices.py\u001b[0m in \u001b[0;36m_activate_context_for\u001b[0;34m(self, devnum)\u001b[0m\n\u001b[1;32m    167\u001b[0m         \u001b[0;32mwith\u001b[0m \u001b[0mself\u001b[0m\u001b[0;34m.\u001b[0m\u001b[0m_lock\u001b[0m\u001b[0;34m:\u001b[0m\u001b[0;34m\u001b[0m\u001b[0;34m\u001b[0m\u001b[0m\n\u001b[1;32m    168\u001b[0m             \u001b[0mgpu\u001b[0m \u001b[0;34m=\u001b[0m \u001b[0mself\u001b[0m\u001b[0;34m.\u001b[0m\u001b[0mgpus\u001b[0m\u001b[0;34m[\u001b[0m\u001b[0mdevnum\u001b[0m\u001b[0;34m]\u001b[0m\u001b[0;34m\u001b[0m\u001b[0;34m\u001b[0m\u001b[0m\n\u001b[0;32m--> 169\u001b[0;31m             \u001b[0mnewctx\u001b[0m \u001b[0;34m=\u001b[0m \u001b[0mgpu\u001b[0m\u001b[0;34m.\u001b[0m\u001b[0mget_primary_context\u001b[0m\u001b[0;34m(\u001b[0m\u001b[0;34m)\u001b[0m\u001b[0;34m\u001b[0m\u001b[0;34m\u001b[0m\u001b[0m\n\u001b[0m\u001b[1;32m    170\u001b[0m             \u001b[0;31m# Detect unexpected context switch\u001b[0m\u001b[0;34m\u001b[0m\u001b[0;34m\u001b[0m\u001b[0;34m\u001b[0m\u001b[0m\n\u001b[1;32m    171\u001b[0m             \u001b[0mcached_ctx\u001b[0m \u001b[0;34m=\u001b[0m \u001b[0mself\u001b[0m\u001b[0;34m.\u001b[0m\u001b[0m_get_attached_context\u001b[0m\u001b[0;34m(\u001b[0m\u001b[0;34m)\u001b[0m\u001b[0;34m\u001b[0m\u001b[0;34m\u001b[0m\u001b[0m\n",
      "\u001b[0;32m~/anaconda3/lib/python3.8/site-packages/numba/cuda/cudadrv/driver.py\u001b[0m in \u001b[0;36mget_primary_context\u001b[0;34m(self)\u001b[0m\n\u001b[1;32m    527\u001b[0m         \u001b[0;31m# create primary context\u001b[0m\u001b[0;34m\u001b[0m\u001b[0;34m\u001b[0m\u001b[0;34m\u001b[0m\u001b[0m\n\u001b[1;32m    528\u001b[0m         \u001b[0mhctx\u001b[0m \u001b[0;34m=\u001b[0m \u001b[0mdrvapi\u001b[0m\u001b[0;34m.\u001b[0m\u001b[0mcu_context\u001b[0m\u001b[0;34m(\u001b[0m\u001b[0;34m)\u001b[0m\u001b[0;34m\u001b[0m\u001b[0;34m\u001b[0m\u001b[0m\n\u001b[0;32m--> 529\u001b[0;31m         \u001b[0mdriver\u001b[0m\u001b[0;34m.\u001b[0m\u001b[0mcuDevicePrimaryCtxRetain\u001b[0m\u001b[0;34m(\u001b[0m\u001b[0mbyref\u001b[0m\u001b[0;34m(\u001b[0m\u001b[0mhctx\u001b[0m\u001b[0;34m)\u001b[0m\u001b[0;34m,\u001b[0m \u001b[0mself\u001b[0m\u001b[0;34m.\u001b[0m\u001b[0mid\u001b[0m\u001b[0;34m)\u001b[0m\u001b[0;34m\u001b[0m\u001b[0;34m\u001b[0m\u001b[0m\n\u001b[0m\u001b[1;32m    530\u001b[0m \u001b[0;34m\u001b[0m\u001b[0m\n\u001b[1;32m    531\u001b[0m         \u001b[0mctx\u001b[0m \u001b[0;34m=\u001b[0m \u001b[0mContext\u001b[0m\u001b[0;34m(\u001b[0m\u001b[0mweakref\u001b[0m\u001b[0;34m.\u001b[0m\u001b[0mproxy\u001b[0m\u001b[0;34m(\u001b[0m\u001b[0mself\u001b[0m\u001b[0;34m)\u001b[0m\u001b[0;34m,\u001b[0m \u001b[0mhctx\u001b[0m\u001b[0;34m)\u001b[0m\u001b[0;34m\u001b[0m\u001b[0;34m\u001b[0m\u001b[0m\n",
      "\u001b[0;32m~/anaconda3/lib/python3.8/site-packages/numba/cuda/cudadrv/driver.py\u001b[0m in \u001b[0;36msafe_cuda_api_call\u001b[0;34m(*args)\u001b[0m\n\u001b[1;32m    293\u001b[0m             \u001b[0m_logger\u001b[0m\u001b[0;34m.\u001b[0m\u001b[0mdebug\u001b[0m\u001b[0;34m(\u001b[0m\u001b[0;34m'call driver api: %s'\u001b[0m\u001b[0;34m,\u001b[0m \u001b[0mlibfn\u001b[0m\u001b[0;34m.\u001b[0m\u001b[0m__name__\u001b[0m\u001b[0;34m)\u001b[0m\u001b[0;34m\u001b[0m\u001b[0;34m\u001b[0m\u001b[0m\n\u001b[1;32m    294\u001b[0m             \u001b[0mretcode\u001b[0m \u001b[0;34m=\u001b[0m \u001b[0mlibfn\u001b[0m\u001b[0;34m(\u001b[0m\u001b[0;34m*\u001b[0m\u001b[0margs\u001b[0m\u001b[0;34m)\u001b[0m\u001b[0;34m\u001b[0m\u001b[0;34m\u001b[0m\u001b[0m\n\u001b[0;32m--> 295\u001b[0;31m             \u001b[0mself\u001b[0m\u001b[0;34m.\u001b[0m\u001b[0m_check_error\u001b[0m\u001b[0;34m(\u001b[0m\u001b[0mfname\u001b[0m\u001b[0;34m,\u001b[0m \u001b[0mretcode\u001b[0m\u001b[0;34m)\u001b[0m\u001b[0;34m\u001b[0m\u001b[0;34m\u001b[0m\u001b[0m\n\u001b[0m\u001b[1;32m    296\u001b[0m         \u001b[0;32mreturn\u001b[0m \u001b[0msafe_cuda_api_call\u001b[0m\u001b[0;34m\u001b[0m\u001b[0;34m\u001b[0m\u001b[0m\n\u001b[1;32m    297\u001b[0m \u001b[0;34m\u001b[0m\u001b[0m\n",
      "\u001b[0;32m~/anaconda3/lib/python3.8/site-packages/numba/cuda/cudadrv/driver.py\u001b[0m in \u001b[0;36m_check_error\u001b[0;34m(self, fname, retcode)\u001b[0m\n\u001b[1;32m    328\u001b[0m                     \u001b[0m_logger\u001b[0m\u001b[0;34m.\u001b[0m\u001b[0mcritical\u001b[0m\u001b[0;34m(\u001b[0m\u001b[0mmsg\u001b[0m\u001b[0;34m,\u001b[0m \u001b[0m_getpid\u001b[0m\u001b[0;34m(\u001b[0m\u001b[0;34m)\u001b[0m\u001b[0;34m,\u001b[0m \u001b[0mself\u001b[0m\u001b[0;34m.\u001b[0m\u001b[0mpid\u001b[0m\u001b[0;34m)\u001b[0m\u001b[0;34m\u001b[0m\u001b[0;34m\u001b[0m\u001b[0m\n\u001b[1;32m    329\u001b[0m                     \u001b[0;32mraise\u001b[0m \u001b[0mCudaDriverError\u001b[0m\u001b[0;34m(\u001b[0m\u001b[0;34m\"CUDA initialized before forking\"\u001b[0m\u001b[0;34m)\u001b[0m\u001b[0;34m\u001b[0m\u001b[0;34m\u001b[0m\u001b[0m\n\u001b[0;32m--> 330\u001b[0;31m             \u001b[0;32mraise\u001b[0m \u001b[0mCudaAPIError\u001b[0m\u001b[0;34m(\u001b[0m\u001b[0mretcode\u001b[0m\u001b[0;34m,\u001b[0m \u001b[0mmsg\u001b[0m\u001b[0;34m)\u001b[0m\u001b[0;34m\u001b[0m\u001b[0;34m\u001b[0m\u001b[0m\n\u001b[0m\u001b[1;32m    331\u001b[0m \u001b[0;34m\u001b[0m\u001b[0m\n\u001b[1;32m    332\u001b[0m     \u001b[0;32mdef\u001b[0m \u001b[0mget_device\u001b[0m\u001b[0;34m(\u001b[0m\u001b[0mself\u001b[0m\u001b[0;34m,\u001b[0m \u001b[0mdevnum\u001b[0m\u001b[0;34m=\u001b[0m\u001b[0;36m0\u001b[0m\u001b[0;34m)\u001b[0m\u001b[0;34m:\u001b[0m\u001b[0;34m\u001b[0m\u001b[0;34m\u001b[0m\u001b[0m\n",
      "\u001b[0;31mCudaAPIError\u001b[0m: [999] Call to cuDevicePrimaryCtxRetain results in CUDA_ERROR_UNKNOWN"
     ]
    }
   ],
   "source": [
    "import keras\n",
    "from numba import cuda\n",
    "# Clearing session as we will train model many time\n",
    "keras.backend.clear_session()\n",
    "# Releasing gpu memory directly with cuda\n",
    "cuda.select_device(0)\n",
    "cuda.close()"
   ]
  },
  {
   "cell_type": "code",
   "execution_count": null,
   "metadata": {},
   "outputs": [],
   "source": []
  }
 ],
 "metadata": {
  "kernelspec": {
   "display_name": "Python 3",
   "language": "python",
   "name": "python3"
  },
  "language_info": {
   "codemirror_mode": {
    "name": "ipython",
    "version": 3
   },
   "file_extension": ".py",
   "mimetype": "text/x-python",
   "name": "python",
   "nbconvert_exporter": "python",
   "pygments_lexer": "ipython3",
   "version": "3.8.3"
  }
 },
 "nbformat": 4,
 "nbformat_minor": 4
}

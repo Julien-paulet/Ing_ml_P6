{
 "cells": [
  {
   "cell_type": "code",
   "execution_count": 1,
   "metadata": {},
   "outputs": [],
   "source": [
    "import os\n",
    "import pandas as pd\n",
    "import numpy as np\n",
    "import keras\n",
    "from keras.preprocessing.image import ImageDataGenerator\n",
    "from keras.layers import Dense, Conv2D, Flatten, MaxPooling2D\n",
    "#from tensorflow.python.keras.preprocessing.image import ImageDataGenerator, load_img\n",
    "import matplotlib.pyplot as plt\n",
    "import cv2\n",
    "import warnings\n",
    "import tensorflow as tf\n",
    "from keras.models import Sequential\n",
    "from keras.optimizers import Adam\n",
    "tf.random.set_seed(42)\n",
    "#warnings.filterwarnings(\"ignore\")"
   ]
  },
  {
   "cell_type": "markdown",
   "metadata": {},
   "source": [
    "Init variables (in the script for now, via config file later)"
   ]
  },
  {
   "cell_type": "code",
   "execution_count": 2,
   "metadata": {},
   "outputs": [],
   "source": [
    "config = None\n",
    "\n",
    "# Global\n",
    "index = 4\n",
    "\n",
    "# For data\n",
    "path = '/home/mlmaster/Code/Ing_ml_P6/dataset/'\n",
    "img_height = 150\n",
    "img_width = 150\n",
    "zca_whitening = False\n",
    "horizontal_flip = True\n",
    "\n",
    "# For model\n",
    "model_type = 3\n",
    "batch_size = 50\n",
    "learning_rate = 0.001\n",
    "epochs = 50\n",
    "steps_per_epoch = 5\n",
    "validation_steps = 10\n",
    "\n",
    "# For Logs\n",
    "save = \"/home/mlmaster/Code/Ing_ml_P6/logs/\""
   ]
  },
  {
   "cell_type": "markdown",
   "metadata": {},
   "source": [
    "Building Dataset for logs"
   ]
  },
  {
   "cell_type": "code",
   "execution_count": 3,
   "metadata": {},
   "outputs": [],
   "source": [
    "dataset = [index, img_height, img_width, batch_size,\n",
    "           learning_rate, epochs, steps_per_epoch,\n",
    "           validation_steps, zca_whitening, horizontal_flip,\n",
    "           model_type]\n",
    "\n",
    "dataset = pd.DataFrame(dataset).T\n",
    "dataset = dataset.rename(columns={0:'Index', 1:'Img Height', 2:'Img Width', 3:'Batch Size',\n",
    "                                  4:'Learning Rate', 5:'Epochs', 6:'Steps Per Epoch',\n",
    "                                  7:'validation Steps', 8:'Zca Whitening', 9:'Horizontal Flip',\n",
    "                                  10:'Model Type'})"
   ]
  },
  {
   "cell_type": "code",
   "execution_count": 4,
   "metadata": {},
   "outputs": [
    {
     "data": {
      "text/html": [
       "<div>\n",
       "<style scoped>\n",
       "    .dataframe tbody tr th:only-of-type {\n",
       "        vertical-align: middle;\n",
       "    }\n",
       "\n",
       "    .dataframe tbody tr th {\n",
       "        vertical-align: top;\n",
       "    }\n",
       "\n",
       "    .dataframe thead th {\n",
       "        text-align: right;\n",
       "    }\n",
       "</style>\n",
       "<table border=\"1\" class=\"dataframe\">\n",
       "  <thead>\n",
       "    <tr style=\"text-align: right;\">\n",
       "      <th></th>\n",
       "      <th>Index</th>\n",
       "      <th>Img Height</th>\n",
       "      <th>Img Width</th>\n",
       "      <th>Batch Size</th>\n",
       "      <th>Learning Rate</th>\n",
       "      <th>Epochs</th>\n",
       "      <th>Steps Per Epoch</th>\n",
       "      <th>validation Steps</th>\n",
       "      <th>Zca Whitening</th>\n",
       "      <th>Horizontal Flip</th>\n",
       "      <th>Model Type</th>\n",
       "    </tr>\n",
       "  </thead>\n",
       "  <tbody>\n",
       "    <tr>\n",
       "      <th>0</th>\n",
       "      <td>4</td>\n",
       "      <td>150</td>\n",
       "      <td>150</td>\n",
       "      <td>50</td>\n",
       "      <td>0.001</td>\n",
       "      <td>50</td>\n",
       "      <td>5</td>\n",
       "      <td>10</td>\n",
       "      <td>False</td>\n",
       "      <td>True</td>\n",
       "      <td>3</td>\n",
       "    </tr>\n",
       "  </tbody>\n",
       "</table>\n",
       "</div>"
      ],
      "text/plain": [
       "  Index Img Height Img Width Batch Size Learning Rate Epochs Steps Per Epoch  \\\n",
       "0     4        150       150         50         0.001     50               5   \n",
       "\n",
       "  validation Steps Zca Whitening Horizontal Flip Model Type  \n",
       "0               10         False            True          3  "
      ]
     },
     "execution_count": 4,
     "metadata": {},
     "output_type": "execute_result"
    }
   ],
   "source": [
    "dataset"
   ]
  },
  {
   "cell_type": "code",
   "execution_count": 5,
   "metadata": {},
   "outputs": [],
   "source": [
    "# Locked variable, does not change with config file\n",
    "train = 'Train/'\n",
    "val = 'Validation/'\n",
    "test = 'Test/'\n",
    "fullPathTrain = path + train\n",
    "fullPathVal = path + val\n",
    "fullPathTest = path + test\n",
    "\n",
    "# For model\n",
    "train_datagen =  ImageDataGenerator(\n",
    "    zca_whitening=zca_whitening,\n",
    "    horizontal_flip=horizontal_flip,\n",
    "    rescale=1./255\n",
    ")\n",
    "\n",
    "val_datagen =  ImageDataGenerator(\n",
    "    rescale=1./255\n",
    ")\n",
    "\n",
    "test_datagen =  ImageDataGenerator(\n",
    "    rescale=1./255\n",
    ")"
   ]
  },
  {
   "cell_type": "code",
   "execution_count": 6,
   "metadata": {},
   "outputs": [],
   "source": [
    "#setting the path to the directory containing the pics\n",
    "categories = []\n",
    "for i in os.listdir(fullPathTrain):\n",
    "    categories.append(i)"
   ]
  },
  {
   "cell_type": "code",
   "execution_count": 7,
   "metadata": {},
   "outputs": [],
   "source": [
    "def load_data(which='Train', categories=categories):\n",
    "    \n",
    "    \"\"\"Function that loads data and resize the images\"\"\"\n",
    "    \n",
    "    if which == 'Train':\n",
    "        path = fullPathTrain\n",
    "        print('Loading Train Data')\n",
    "    elif which == 'Val':\n",
    "        path = fullPathVal\n",
    "        print('Loading Validation Data')\n",
    "    elif which == 'Test':\n",
    "        path = fullPathTest\n",
    "        print('Loading Test Data')\n",
    "    else:\n",
    "        print('error, which must be either : Train, Val, Test')\n",
    "    data = []\n",
    "    label = []\n",
    "    for i in categories:\n",
    "        for img in os.listdir(path + i):\n",
    "            pic = cv2.imread(os.path.join(path + i,img))\n",
    "            pic = cv2.cvtColor(pic,cv2.COLOR_BGR2RGB)\n",
    "            pic = cv2.resize(pic,(img_height, img_width))\n",
    "            data.append([pic])\n",
    "            label.append(i)\n",
    "    print(len(data), \" Images loaded\")\n",
    "    # Formating data\n",
    "    data = np.array(data)\n",
    "    data = data.reshape((data.shape[0], img_height, img_width, 3))\n",
    "    data = data.astype('float32')\n",
    "    label = np.array(label)\n",
    "    label = [i.split('-')[1] for i in label]\n",
    "    \n",
    "    return data, label"
   ]
  },
  {
   "cell_type": "markdown",
   "metadata": {},
   "source": [
    "Fit if zca_whitening is True"
   ]
  },
  {
   "cell_type": "code",
   "execution_count": 8,
   "metadata": {},
   "outputs": [],
   "source": [
    "if zca_whitening == True:\n",
    "    dataToFit, label = load_data(which='Train', categories=categories)\n",
    "    dataToFit = dataToFit.reshape((dataToFit.shape[0], img_height, img_width, 3))\n",
    "    dataToFit = dataToFit.astype('float32')\n",
    "    train_datagen.fit(dataToFit)\n",
    "    # This fail with error :\n",
    "    # \"ValueError: Too large work array required -- \n",
    "    # computation cannot be performed with standard 32-bit LAPACK.\""
   ]
  },
  {
   "cell_type": "code",
   "execution_count": 9,
   "metadata": {},
   "outputs": [
    {
     "name": "stdout",
     "output_type": "stream",
     "text": [
      "Total number of images for \"training\":\n",
      "Found 12348 images belonging to 120 classes.\n",
      "Total number of images for \"validation\":\n",
      "Found 4116 images belonging to 120 classes.\n",
      "Total number of images for \"testing\":\n",
      "Found 4116 images belonging to 120 classes.\n"
     ]
    }
   ],
   "source": [
    "# Defining the generator\n",
    "print('Total number of images for \"training\":')\n",
    "train_generator = train_datagen.flow_from_directory(\n",
    "                                fullPathTrain,\n",
    "                                target_size = (img_height, img_width),\n",
    "                                batch_size = batch_size, \n",
    "                                class_mode = \"categorical\")\n",
    "\n",
    "print('Total number of images for \"validation\":')\n",
    "val_generator = test_datagen.flow_from_directory(\n",
    "                             fullPathVal,\n",
    "                             target_size = (img_height, img_width),\n",
    "                             batch_size = batch_size,\n",
    "                             class_mode = \"categorical\",\n",
    "                             shuffle=False)\n",
    "\n",
    "print('Total number of images for \"testing\":')\n",
    "test_generator = test_datagen.flow_from_directory(\n",
    "                              fullPathTest,\n",
    "                              target_size = (img_height, img_width),\n",
    "                              batch_size = batch_size,\n",
    "                              class_mode = \"categorical\",\n",
    "                              shuffle=False)"
   ]
  },
  {
   "cell_type": "code",
   "execution_count": 10,
   "metadata": {},
   "outputs": [],
   "source": [
    "# Model Builder\n",
    "if model_type == 1:\n",
    "    model = Sequential()\n",
    "    model.add(Conv2D(64, kernel_size=3, activation='relu', input_shape=(img_height,img_width,3)))\n",
    "    model.add(Conv2D(32, kernel_size=3, activation='relu', input_shape=(img_height,img_width,3)))\n",
    "    model.add(Conv2D(16, kernel_size=3, activation='relu', input_shape=(img_height,img_width,3)))\n",
    "    model.add(Conv2D(8, kernel_size=3, activation='relu'))\n",
    "    model.add(Flatten())\n",
    "    model.add(Dense(len(categories), activation='softmax'))\n",
    "    \n",
    "elif model_type == 2:\n",
    "    model = Sequential()\n",
    "    model.add(Conv2D(32, kernel_size=(5, 5), strides=(1, 1),\n",
    "                     activation='relu',\n",
    "                     input_shape=(img_height,img_width,3)))\n",
    "    model.add(MaxPooling2D(pool_size=(2, 2), strides=(2, 2)))\n",
    "    \n",
    "    model.add(Conv2D(64, (5, 5), activation='relu'))\n",
    "    model.add(MaxPooling2D(pool_size=(2, 2)))\n",
    "    model.add(Flatten())\n",
    "    \n",
    "    model.add(Dense(1000, activation='relu'))\n",
    "    model.add(Dense(len(categories), activation='softmax'))\n",
    "    \n",
    "elif model_type == 3:\n",
    "    model = Sequential()\n",
    "    model.add(Conv2D(8, kernel_size=(5, 5), strides=(1, 1),\n",
    "                     activation='relu',\n",
    "                     input_shape=(img_height,img_width,3)))\n",
    "    model.add(MaxPooling2D(pool_size=(2, 2), strides=(2, 2)))\n",
    "    \n",
    "    model.add(Conv2D(16, (5, 5), activation='relu'))\n",
    "    model.add(MaxPooling2D(pool_size=(2, 2)))\n",
    "    \n",
    "    model.add(Conv2D(32, kernel_size=(5, 5), strides=(1, 1),\n",
    "                     activation='relu'))\n",
    "    model.add(MaxPooling2D(pool_size=(2, 2), strides=(2, 2)))\n",
    "    \n",
    "    model.add(Conv2D(64, (5, 5), activation='relu'))\n",
    "    model.add(MaxPooling2D(pool_size=(2, 2)))\n",
    "    model.add(Flatten())\n",
    "    \n",
    "    model.add(Dense(1000, activation='relu'))\n",
    "    model.add(Dense(len(categories), activation='softmax'))\n",
    "    \n",
    "elif model_type == 4:\n",
    "    model = Sequential()\n",
    "    model.add(Conv2D(64, kernel_size=(5, 5), strides=(2, 2),\n",
    "                     activation='relu',\n",
    "                     input_shape=(img_height,img_width,3)))\n",
    "    model.add(MaxPooling2D(pool_size=(2, 2), strides=(1, 1)))\n",
    "    \n",
    "    model.add(Conv2D(32, (5, 5), activation='relu'))\n",
    "    model.add(MaxPooling2D(pool_size=(2, 2)))\n",
    "    model.add(Flatten())\n",
    "    \n",
    "    model.add(Dense(1000, activation='relu'))\n",
    "    model.add(Dense(len(categories), activation='softmax'))    "
   ]
  },
  {
   "cell_type": "code",
   "execution_count": 11,
   "metadata": {},
   "outputs": [],
   "source": [
    "# Optmizer and compilation\n",
    "opt = Adam(lr=learning_rate, clipnorm=1.)\n",
    "model.compile(loss='binary_crossentropy',\n",
    "              optimizer=opt,\n",
    "              metrics=['accuracy'])"
   ]
  },
  {
   "cell_type": "code",
   "execution_count": 12,
   "metadata": {},
   "outputs": [
    {
     "name": "stdout",
     "output_type": "stream",
     "text": [
      "Model: \"sequential\"\n",
      "_________________________________________________________________\n",
      "Layer (type)                 Output Shape              Param #   \n",
      "=================================================================\n",
      "conv2d (Conv2D)              (None, 146, 146, 8)       608       \n",
      "_________________________________________________________________\n",
      "max_pooling2d (MaxPooling2D) (None, 73, 73, 8)         0         \n",
      "_________________________________________________________________\n",
      "conv2d_1 (Conv2D)            (None, 69, 69, 16)        3216      \n",
      "_________________________________________________________________\n",
      "max_pooling2d_1 (MaxPooling2 (None, 34, 34, 16)        0         \n",
      "_________________________________________________________________\n",
      "conv2d_2 (Conv2D)            (None, 30, 30, 32)        12832     \n",
      "_________________________________________________________________\n",
      "max_pooling2d_2 (MaxPooling2 (None, 15, 15, 32)        0         \n",
      "_________________________________________________________________\n",
      "conv2d_3 (Conv2D)            (None, 11, 11, 64)        51264     \n",
      "_________________________________________________________________\n",
      "max_pooling2d_3 (MaxPooling2 (None, 5, 5, 64)          0         \n",
      "_________________________________________________________________\n",
      "flatten (Flatten)            (None, 1600)              0         \n",
      "_________________________________________________________________\n",
      "dense (Dense)                (None, 1000)              1601000   \n",
      "_________________________________________________________________\n",
      "dense_1 (Dense)              (None, 120)               120120    \n",
      "=================================================================\n",
      "Total params: 1,789,040\n",
      "Trainable params: 1,789,040\n",
      "Non-trainable params: 0\n",
      "_________________________________________________________________\n"
     ]
    }
   ],
   "source": [
    "model.summary()"
   ]
  },
  {
   "cell_type": "code",
   "execution_count": 13,
   "metadata": {
    "scrolled": false
   },
   "outputs": [
    {
     "name": "stdout",
     "output_type": "stream",
     "text": [
      "Epoch 1/50\n",
      "5/5 [==============================] - 3s 644ms/step - loss: 0.4970 - accuracy: 0.0096 - val_loss: 0.1161 - val_accuracy: 0.0000e+00\n",
      "Epoch 2/50\n",
      "5/5 [==============================] - 3s 545ms/step - loss: 0.1394 - accuracy: 0.0178 - val_loss: 0.1134 - val_accuracy: 0.0840\n",
      "Epoch 3/50\n",
      "5/5 [==============================] - 3s 544ms/step - loss: 0.1033 - accuracy: 0.0065 - val_loss: 0.0636 - val_accuracy: 0.0000e+00\n",
      "Epoch 4/50\n",
      "5/5 [==============================] - 3s 555ms/step - loss: 0.0774 - accuracy: 0.0083 - val_loss: 0.0530 - val_accuracy: 0.0840\n",
      "Epoch 5/50\n",
      "5/5 [==============================] - 2s 527ms/step - loss: 0.0562 - accuracy: 0.0096 - val_loss: 0.0637 - val_accuracy: 0.0000e+00\n",
      "Epoch 6/50\n",
      "5/5 [==============================] - 2s 524ms/step - loss: 0.0594 - accuracy: 0.0000e+00 - val_loss: 0.0574 - val_accuracy: 0.0000e+00\n",
      "Epoch 7/50\n",
      "5/5 [==============================] - 2s 529ms/step - loss: 0.0546 - accuracy: 0.0070 - val_loss: 0.0573 - val_accuracy: 0.0000e+00\n",
      "Epoch 8/50\n",
      "5/5 [==============================] - 2s 528ms/step - loss: 0.0544 - accuracy: 0.0151 - val_loss: 0.0548 - val_accuracy: 0.0840\n",
      "Epoch 9/50\n",
      "5/5 [==============================] - 2s 525ms/step - loss: 0.0536 - accuracy: 0.0092 - val_loss: 0.0525 - val_accuracy: 0.0840\n",
      "Epoch 10/50\n",
      "5/5 [==============================] - 2s 532ms/step - loss: 0.0522 - accuracy: 0.0000e+00 - val_loss: 0.0515 - val_accuracy: 0.0780\n",
      "Epoch 11/50\n",
      "5/5 [==============================] - 2s 529ms/step - loss: 0.0520 - accuracy: 0.0054 - val_loss: 0.0505 - val_accuracy: 0.0040\n",
      "Epoch 12/50\n",
      "5/5 [==============================] - 2s 529ms/step - loss: 0.0529 - accuracy: 0.0013 - val_loss: 0.0490 - val_accuracy: 0.0000e+00\n",
      "Epoch 13/50\n",
      "5/5 [==============================] - 2s 530ms/step - loss: 0.0506 - accuracy: 0.0054 - val_loss: 0.0487 - val_accuracy: 0.0900\n",
      "Epoch 14/50\n",
      "5/5 [==============================] - 2s 527ms/step - loss: 0.0524 - accuracy: 0.0096 - val_loss: 0.0490 - val_accuracy: 0.0000e+00\n",
      "Epoch 15/50\n",
      "5/5 [==============================] - 2s 527ms/step - loss: 0.0512 - accuracy: 0.0165 - val_loss: 0.0501 - val_accuracy: 0.0000e+00\n",
      "Epoch 16/50\n",
      "5/5 [==============================] - 2s 525ms/step - loss: 0.0507 - accuracy: 0.0035 - val_loss: 0.0508 - val_accuracy: 0.0000e+00\n",
      "Epoch 17/50\n",
      "5/5 [==============================] - 2s 530ms/step - loss: 0.0513 - accuracy: 0.0063 - val_loss: 0.0502 - val_accuracy: 0.0000e+00\n",
      "Epoch 18/50\n",
      "5/5 [==============================] - 2s 523ms/step - loss: 0.0510 - accuracy: 0.0166 - val_loss: 0.0498 - val_accuracy: 0.0000e+00\n",
      "Epoch 19/50\n",
      "5/5 [==============================] - 2s 532ms/step - loss: 0.0509 - accuracy: 0.0104 - val_loss: 0.0499 - val_accuracy: 0.0300\n",
      "Epoch 20/50\n",
      "5/5 [==============================] - 2s 528ms/step - loss: 0.0507 - accuracy: 0.0035 - val_loss: 0.0494 - val_accuracy: 0.0000e+00\n",
      "Epoch 21/50\n",
      "5/5 [==============================] - 2s 531ms/step - loss: 0.0499 - accuracy: 0.0022 - val_loss: 0.0498 - val_accuracy: 0.0000e+00\n",
      "Epoch 22/50\n",
      "5/5 [==============================] - 2s 517ms/step - loss: 0.0499 - accuracy: 0.0066 - val_loss: 0.0495 - val_accuracy: 0.0000e+00\n",
      "Epoch 23/50\n",
      "5/5 [==============================] - 2s 529ms/step - loss: 0.0507 - accuracy: 0.0165 - val_loss: 0.0496 - val_accuracy: 0.0000e+00\n",
      "Epoch 24/50\n",
      "5/5 [==============================] - 2s 527ms/step - loss: 0.0500 - accuracy: 0.0000e+00 - val_loss: 0.0500 - val_accuracy: 0.0000e+00\n",
      "Epoch 25/50\n",
      "5/5 [==============================] - 2s 524ms/step - loss: 0.0499 - accuracy: 0.0084 - val_loss: 0.0501 - val_accuracy: 0.0000e+00\n",
      "Epoch 26/50\n",
      "5/5 [==============================] - 2s 528ms/step - loss: 0.0497 - accuracy: 0.0000e+00 - val_loss: 0.0496 - val_accuracy: 0.0000e+00\n",
      "Epoch 27/50\n",
      "5/5 [==============================] - 2s 526ms/step - loss: 0.0502 - accuracy: 0.0118 - val_loss: 0.0492 - val_accuracy: 0.0000e+00\n",
      "Epoch 28/50\n",
      "5/5 [==============================] - 2s 525ms/step - loss: 0.0493 - accuracy: 0.0104 - val_loss: 0.0488 - val_accuracy: 0.0000e+00\n",
      "Epoch 29/50\n",
      "5/5 [==============================] - 2s 527ms/step - loss: 0.0494 - accuracy: 0.0132 - val_loss: 0.0473 - val_accuracy: 0.0000e+00\n",
      "Epoch 30/50\n",
      "5/5 [==============================] - 2s 535ms/step - loss: 0.0493 - accuracy: 0.0195 - val_loss: 0.0463 - val_accuracy: 0.0000e+00\n",
      "Epoch 31/50\n",
      "5/5 [==============================] - 2s 525ms/step - loss: 0.0501 - accuracy: 0.0104 - val_loss: 0.0462 - val_accuracy: 0.0720\n",
      "Epoch 32/50\n",
      "5/5 [==============================] - 2s 531ms/step - loss: 0.0489 - accuracy: 0.0049 - val_loss: 0.0466 - val_accuracy: 0.0000e+00\n",
      "Epoch 33/50\n",
      "5/5 [==============================] - 2s 529ms/step - loss: 0.0500 - accuracy: 0.0146 - val_loss: 0.0474 - val_accuracy: 0.0000e+00\n",
      "Epoch 34/50\n",
      "5/5 [==============================] - 2s 527ms/step - loss: 0.0490 - accuracy: 0.0134 - val_loss: 0.0478 - val_accuracy: 0.0000e+00\n",
      "Epoch 35/50\n",
      "5/5 [==============================] - 2s 524ms/step - loss: 0.0491 - accuracy: 0.0033 - val_loss: 0.0490 - val_accuracy: 0.0000e+00\n",
      "Epoch 36/50\n",
      "5/5 [==============================] - 2s 529ms/step - loss: 0.0496 - accuracy: 0.0116 - val_loss: 0.0490 - val_accuracy: 0.0000e+00\n",
      "Epoch 37/50\n",
      "5/5 [==============================] - 2s 530ms/step - loss: 0.0493 - accuracy: 0.0093 - val_loss: 0.0495 - val_accuracy: 0.0000e+00\n",
      "Epoch 38/50\n",
      "5/5 [==============================] - 2s 527ms/step - loss: 0.0490 - accuracy: 0.0000e+00 - val_loss: 0.0492 - val_accuracy: 0.0000e+00\n",
      "Epoch 39/50\n",
      "5/5 [==============================] - 2s 524ms/step - loss: 0.0489 - accuracy: 0.0033 - val_loss: 0.0481 - val_accuracy: 0.0000e+00\n",
      "Epoch 40/50\n",
      "5/5 [==============================] - 2s 527ms/step - loss: 0.0495 - accuracy: 0.0087 - val_loss: 0.0471 - val_accuracy: 0.0840\n",
      "Epoch 41/50\n",
      "5/5 [==============================] - 2s 525ms/step - loss: 0.0497 - accuracy: 0.0096 - val_loss: 0.0470 - val_accuracy: 0.0000e+00\n",
      "Epoch 42/50\n",
      "5/5 [==============================] - 2s 536ms/step - loss: 0.0483 - accuracy: 0.0022 - val_loss: 0.0474 - val_accuracy: 0.0720\n",
      "Epoch 43/50\n",
      "5/5 [==============================] - 2s 534ms/step - loss: 0.0489 - accuracy: 0.0087 - val_loss: 0.0475 - val_accuracy: 0.0000e+00\n",
      "Epoch 44/50\n",
      "5/5 [==============================] - 2s 526ms/step - loss: 0.0488 - accuracy: 0.0117 - val_loss: 0.0476 - val_accuracy: 0.1020\n",
      "Epoch 45/50\n",
      "5/5 [==============================] - 2s 525ms/step - loss: 0.0491 - accuracy: 0.0054 - val_loss: 0.0483 - val_accuracy: 0.0000e+00\n",
      "Epoch 46/50\n",
      "5/5 [==============================] - 2s 528ms/step - loss: 0.0488 - accuracy: 0.0098 - val_loss: 0.0483 - val_accuracy: 0.0000e+00\n",
      "Epoch 47/50\n",
      "5/5 [==============================] - 2s 530ms/step - loss: 0.0489 - accuracy: 0.0166 - val_loss: 0.0476 - val_accuracy: 0.0000e+00\n",
      "Epoch 48/50\n",
      "5/5 [==============================] - 2s 532ms/step - loss: 0.0491 - accuracy: 0.0013 - val_loss: 0.0478 - val_accuracy: 0.0900\n",
      "Epoch 49/50\n",
      "5/5 [==============================] - 2s 537ms/step - loss: 0.0487 - accuracy: 0.0116 - val_loss: 0.0477 - val_accuracy: 0.0000e+00\n",
      "Epoch 50/50\n",
      "5/5 [==============================] - 2s 530ms/step - loss: 0.0494 - accuracy: 0.0096 - val_loss: 0.0477 - val_accuracy: 0.0000e+00\n"
     ]
    }
   ],
   "source": [
    "# Model fit via generator\n",
    "history = model.fit(train_generator,\n",
    "                    epochs=epochs,\n",
    "                    validation_data=val_generator,\n",
    "                    steps_per_epoch=steps_per_epoch,\n",
    "                    validation_steps=validation_steps,\n",
    "                    verbose=1)"
   ]
  },
  {
   "cell_type": "markdown",
   "metadata": {},
   "source": [
    "Ploting graph"
   ]
  },
  {
   "cell_type": "code",
   "execution_count": 14,
   "metadata": {},
   "outputs": [
    {
     "data": {
      "text/plain": [
       "[]"
      ]
     },
     "execution_count": 14,
     "metadata": {},
     "output_type": "execute_result"
    },
    {
     "data": {
      "image/png": "[encoded data removed]",
      "text/plain": [
       "<Figure size 432x288 with 1 Axes>"
      ]
     },
     "metadata": {
      "needs_background": "light"
     },
     "output_type": "display_data"
    },
    {
     "data": {
      "image/png": "[encoded data removed]",
      "text/plain": [
       "<Figure size 432x288 with 1 Axes>"
      ]
     },
     "metadata": {
      "needs_background": "light"
     },
     "output_type": "display_data"
    }
   ],
   "source": [
    "path_img = save + str(index) + '/'\n",
    "try:\n",
    "    os.mkdir(path_img)\n",
    "except:\n",
    "    print('This directory already exists, please make sure that you changed the index')\n",
    "\n",
    "acc = history.history['accuracy']\n",
    "val_acc = history.history['val_accuracy']\n",
    "loss = history.history['loss']\n",
    "val_loss = history.history['val_loss']\n",
    "epochs = range(1,len(acc)+1)\n",
    "\n",
    "plt.figure()\n",
    "plt.plot(epochs, acc, 'b', label = 'Training accuracy')\n",
    "plt.plot(epochs, val_acc, 'r', label='Validation accuracy')\n",
    "plt.title('Training and validation accuracy')\n",
    "plt.legend()\n",
    "plt.savefig(path_img + 'Accuracy.jpg')\n",
    "plt.plot()\n",
    "\n",
    "plt.figure()\n",
    "plt.plot(epochs, loss, 'b', label = 'Training loss')\n",
    "plt.plot(epochs, val_loss, 'r', label='Validation loss')\n",
    "plt.title('Training and validation loss')\n",
    "plt.legend()\n",
    "plt.savefig(path_img + 'Loss.jpg')\n",
    "plt.plot()"
   ]
  },
  {
   "cell_type": "markdown",
   "metadata": {},
   "source": [
    "Saving best scores"
   ]
  },
  {
   "cell_type": "code",
   "execution_count": 15,
   "metadata": {},
   "outputs": [],
   "source": [
    "val_acc = max(history.history['val_accuracy'])\n",
    "val_loss = max(history.history['val_loss'])\n",
    "\n",
    "dataset['Validation Accuracy'] = val_acc\n",
    "dataset['Validation Loss'] = val_loss"
   ]
  },
  {
   "cell_type": "code",
   "execution_count": 16,
   "metadata": {},
   "outputs": [],
   "source": [
    "try:\n",
    "    logs = pd.read_csv('logs.csv')\n",
    "    logs = pd.concat([logs, dataset])\n",
    "    logs.to_csv(save + 'logs.csv')\n",
    "except:\n",
    "    dataset.to_csv(save + 'logs.csv')"
   ]
  },
  {
   "cell_type": "code",
   "execution_count": 17,
   "metadata": {},
   "outputs": [],
   "source": [
    "import keras\n",
    "from numba import cuda\n",
    "# Clearing session as we will train model many time\n",
    "keras.backend.clear_session()\n",
    "# Releasing gpu memory directly with cuda\n",
    "cuda.select_device(0)\n",
    "cuda.close()"
   ]
  },
  {
   "cell_type": "code",
   "execution_count": null,
   "metadata": {},
   "outputs": [],
   "source": []
  }
 ],
 "metadata": {
  "kernelspec": {
   "display_name": "Python 3",
   "language": "python",
   "name": "python3"
  },
  "language_info": {
   "codemirror_mode": {
    "name": "ipython",
    "version": 3
   },
   "file_extension": ".py",
   "mimetype": "text/x-python",
   "name": "python",
   "nbconvert_exporter": "python",
   "pygments_lexer": "ipython3",
   "version": "3.8.3"
  }
 },
 "nbformat": 4,
 "nbformat_minor": 4
}

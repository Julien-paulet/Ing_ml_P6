{
 "cells": [
  {
   "cell_type": "code",
   "execution_count": 1,
   "metadata": {},
   "outputs": [],
   "source": [
    "import numpy as np\n",
    "import os\n",
    "import matplotlib.pyplot as plt\n",
    "import seaborn as sns\n",
    "import datetime\n",
    "\n",
    "from numpy.random import seed\n",
    "seed(1337)\n",
    "\n",
    "import tensorflow as tf\n",
    "tf.random.set_seed(42)\n",
    "\n",
    "# from tensorflow.python.keras.applications import vgg16\n",
    "from tensorflow.keras.applications import ResNet152V2\n",
    "from tensorflow.python.keras.applications.vgg16 import preprocess_input\n",
    "from tensorflow.python.keras.preprocessing.image import ImageDataGenerator, load_img\n",
    "from tensorflow.python.keras.callbacks import ModelCheckpoint\n",
    "from tensorflow.python.keras import layers, models, Model, optimizers\n",
    "\n",
    "from sklearn.metrics import classification_report, confusion_matrix, accuracy_score\n",
    "from sklearn.metrics import plot_confusion_matrix, classification_report"
   ]
  },
  {
   "cell_type": "code",
   "execution_count": 2,
   "metadata": {},
   "outputs": [],
   "source": [
    "# If this is not set, bug because tf takes too much memory\n",
    "physical_devices = tf.config.experimental.list_physical_devices('GPU')\n",
    "assert len(physical_devices) > 0, \"Not enough GPU hardware devices available\"\n",
    "config = tf.config.experimental.set_memory_growth(physical_devices[0], True)"
   ]
  },
  {
   "cell_type": "code",
   "execution_count": 3,
   "metadata": {},
   "outputs": [],
   "source": [
    "train_data_dir = \"dataset/Train\"\n",
    "val_data_dir = \"dataset/Validation\"\n",
    "test_data_dir = \"dataset/Test\"\n",
    "category_names = sorted(os.listdir('dataset/Train'))\n",
    "nb_categories = len(category_names)\n",
    "img_pr_cat = []\n",
    "for category in category_names:\n",
    "    folder = 'dataset/Train' + '/' + category\n",
    "    img_pr_cat.append(len(os.listdir(folder)))"
   ]
  },
  {
   "cell_type": "code",
   "execution_count": 4,
   "metadata": {},
   "outputs": [],
   "source": [
    "img_height, img_width = 224,224\n",
    "horizontal_flip = True\n",
    "rotation_range = 20\n",
    "width_shift_range = 0.2\n",
    "height_shift_range = 0.2"
   ]
  },
  {
   "cell_type": "code",
   "execution_count": 5,
   "metadata": {},
   "outputs": [],
   "source": [
    "#conv_base = vgg16.VGG16(weights='imagenet', include_top=False,\n",
    "#                        pooling='max',\n",
    "#                        input_shape = (img_width, img_height, 3))\n",
    "\n",
    "conv_base = ResNet152V2(include_top=False,\n",
    "                        pooling='avg',\n",
    "                        input_shape=(img_width, img_height, 3),\n",
    "                        weights='imagenet')"
   ]
  },
  {
   "cell_type": "code",
   "execution_count": 6,
   "metadata": {},
   "outputs": [],
   "source": [
    "# Disabling all conv_base layers for training\n",
    "conv_base.trainable = False"
   ]
  },
  {
   "cell_type": "code",
   "execution_count": 7,
   "metadata": {},
   "outputs": [
    {
     "name": "stdout",
     "output_type": "stream",
     "text": [
      "Model: \"sequential\"\n",
      "_________________________________________________________________\n",
      "Layer (type)                 Output Shape              Param #   \n",
      "=================================================================\n",
      "resnet152v2 (Model)          (None, 2048)              58331648  \n",
      "_________________________________________________________________\n",
      "flatten (Flatten)            (None, 2048)              0         \n",
      "_________________________________________________________________\n",
      "dense (Dense)                (None, 2048)              4196352   \n",
      "_________________________________________________________________\n",
      "dropout (Dropout)            (None, 2048)              0         \n",
      "_________________________________________________________________\n",
      "dense_1 (Dense)              (None, 120)               245880    \n",
      "=================================================================\n",
      "Total params: 62,773,880\n",
      "Trainable params: 4,442,232\n",
      "Non-trainable params: 58,331,648\n",
      "_________________________________________________________________\n"
     ]
    }
   ],
   "source": [
    "model = models.Sequential()\n",
    "model.add(conv_base)\n",
    "model.add(layers.Flatten())\n",
    "model.add(layers.Dense(2048, activation='relu'))\n",
    "model.add(layers.Dropout(0.5))\n",
    "model.add(layers.Dense(nb_categories, activation='softmax'))\n",
    "model.summary()"
   ]
  },
  {
   "cell_type": "code",
   "execution_count": 8,
   "metadata": {},
   "outputs": [
    {
     "name": "stdout",
     "output_type": "stream",
     "text": [
      "Total number of images for \"training\":\n",
      "Found 12348 images belonging to 120 classes.\n",
      "Total number of images for \"validation\":\n",
      "Found 4116 images belonging to 120 classes.\n",
      "Total number of images for \"testing\":\n",
      "Found 4116 images belonging to 120 classes.\n"
     ]
    }
   ],
   "source": [
    "#Number of images to load at each iteration\n",
    "batch_size = 32\n",
    "\n",
    "# Rescaling and horizontal flip\n",
    "train_datagen =  ImageDataGenerator(\n",
    "    horizontal_flip=horizontal_flip,\n",
    "    rotation_range=rotation_range,\n",
    "    width_shift_range=width_shift_range,\n",
    "    height_shift_range=height_shift_range,\n",
    "    rescale=1./255\n",
    ")\n",
    "test_datagen =  ImageDataGenerator(\n",
    "    rescale=1./255\n",
    ")\n",
    "\n",
    "# these are generators for train/test data that will read pictures \n",
    "# found in the defined subfolders of 'data/'\n",
    "print('Total number of images for \"training\":')\n",
    "train_generator = train_datagen.flow_from_directory(\n",
    "train_data_dir,\n",
    "target_size = (img_height, img_width),\n",
    "batch_size = batch_size, \n",
    "class_mode = \"categorical\")\n",
    "\n",
    "print('Total number of images for \"validation\":')\n",
    "val_generator = test_datagen.flow_from_directory(\n",
    "val_data_dir,\n",
    "target_size = (img_height, img_width),\n",
    "batch_size = batch_size,\n",
    "class_mode = \"categorical\",\n",
    "shuffle=False)\n",
    "\n",
    "print('Total number of images for \"testing\":')\n",
    "test_generator = test_datagen.flow_from_directory(\n",
    "test_data_dir,\n",
    "target_size = (img_height, img_width),\n",
    "batch_size = batch_size,\n",
    "class_mode = \"categorical\",\n",
    "shuffle=False)"
   ]
  },
  {
   "cell_type": "code",
   "execution_count": 9,
   "metadata": {},
   "outputs": [],
   "source": [
    "learning_rate = 5e-5\n",
    "epochs = 200\n",
    "steps_per_epoch = int(12000 / (batch_size))\n",
    "validation_steps = int(1200 / (batch_size))\n",
    "test_steps = int(1200 / (batch_size))\n",
    "\n",
    "logdir = os.path.join(\"logs\", datetime.datetime.now().strftime(\"%Y%m%d-%H%M%S\"))\n",
    "callback = tf.keras.callbacks.EarlyStopping(monitor='val_acc', patience=5,\n",
    "                                                mode='max',\n",
    "                                                restore_best_weights=True)\n",
    "model.compile(loss=\"categorical_crossentropy\",\n",
    "              optimizer=tf.keras.optimizers.Adam(lr=learning_rate,\n",
    "                                        clipnorm = 1.),\n",
    "              metrics=['acc'])"
   ]
  },
  {
   "cell_type": "code",
   "execution_count": 10,
   "metadata": {},
   "outputs": [
    {
     "name": "stdout",
     "output_type": "stream",
     "text": [
      "Epoch 1/200\n",
      "375/375 [==============================] - 101s 268ms/step - loss: 2.9253 - acc: 0.3553 - val_loss: 1.0787 - val_acc: 0.7238\n",
      "Epoch 2/200\n",
      "375/375 [==============================] - 101s 270ms/step - loss: 1.3994 - acc: 0.6220 - val_loss: 0.8674 - val_acc: 0.7466\n",
      "Epoch 3/200\n",
      "375/375 [==============================] - 101s 269ms/step - loss: 1.1738 - acc: 0.6691 - val_loss: 0.7455 - val_acc: 0.7804\n",
      "Epoch 4/200\n",
      "375/375 [==============================] - 101s 271ms/step - loss: 1.0211 - acc: 0.7043 - val_loss: 0.7392 - val_acc: 0.7773\n",
      "Epoch 5/200\n",
      "375/375 [==============================] - 101s 270ms/step - loss: 0.9616 - acc: 0.7218 - val_loss: 0.8244 - val_acc: 0.7382\n",
      "Epoch 6/200\n",
      "375/375 [==============================] - 101s 271ms/step - loss: 0.8934 - acc: 0.7427 - val_loss: 0.6506 - val_acc: 0.8057\n",
      "Epoch 7/200\n",
      "375/375 [==============================] - 101s 271ms/step - loss: 0.8530 - acc: 0.7451 - val_loss: 0.6996 - val_acc: 0.7841\n",
      "Epoch 8/200\n",
      "375/375 [==============================] - 101s 270ms/step - loss: 0.7888 - acc: 0.7633 - val_loss: 0.7896 - val_acc: 0.7601\n",
      "Epoch 9/200\n",
      "375/375 [==============================] - 102s 271ms/step - loss: 0.7516 - acc: 0.7727 - val_loss: 0.6217 - val_acc: 0.8091\n",
      "Epoch 10/200\n",
      "375/375 [==============================] - 101s 270ms/step - loss: 0.7423 - acc: 0.7764 - val_loss: 0.6511 - val_acc: 0.7990\n",
      "Epoch 11/200\n",
      "375/375 [==============================] - 101s 270ms/step - loss: 0.7020 - acc: 0.7853 - val_loss: 0.7584 - val_acc: 0.7756\n",
      "Epoch 12/200\n",
      "375/375 [==============================] - 102s 271ms/step - loss: 0.6542 - acc: 0.7989 - val_loss: 0.7451 - val_acc: 0.7635\n",
      "Epoch 13/200\n",
      "375/375 [==============================] - 101s 270ms/step - loss: 0.6547 - acc: 0.7983 - val_loss: 0.6610 - val_acc: 0.7981\n",
      "Epoch 14/200\n",
      "375/375 [==============================] - 102s 272ms/step - loss: 0.6220 - acc: 0.8071 - val_loss: 0.6743 - val_acc: 0.8046\n"
     ]
    }
   ],
   "source": [
    "history = model.fit(train_generator,\n",
    "                    epochs=epochs,\n",
    "                    steps_per_epoch=steps_per_epoch,\n",
    "                    shuffle=True, \n",
    "                    validation_data=val_generator,\n",
    "                    validation_steps=validation_steps,\n",
    "                    callbacks=[callback]\n",
    "                    )"
   ]
  },
  {
   "cell_type": "code",
   "execution_count": 11,
   "metadata": {},
   "outputs": [
    {
     "data": {
      "text/plain": [
       "<matplotlib.legend.Legend at 0x7fd38cf24a60>"
      ]
     },
     "execution_count": 11,
     "metadata": {},
     "output_type": "execute_result"
    },
    {
     "data": {
      "image/png": "[encoded data removed]",
      "text/plain": [
       "<Figure size 432x288 with 1 Axes>"
      ]
     },
     "metadata": {
      "needs_background": "light"
     },
     "output_type": "display_data"
    },
    {
     "data": {
      "image/png": "[encoded data removed]",
      "text/plain": [
       "<Figure size 432x288 with 1 Axes>"
      ]
     },
     "metadata": {
      "needs_background": "light"
     },
     "output_type": "display_data"
    }
   ],
   "source": [
    "acc = history.history['acc']\n",
    "val_acc = history.history['val_acc']\n",
    "loss = history.history['loss']\n",
    "val_loss = history.history['val_loss']\n",
    "epochs = range(1,len(acc)+1)\n",
    "\n",
    "plt.figure()\n",
    "plt.plot(epochs, acc, 'b', label = 'Training accuracy')\n",
    "plt.plot(epochs, val_acc, 'r', label='Validation accuracy')\n",
    "plt.title('Training and validation accuracy')\n",
    "plt.legend()\n",
    "# plt.savefig('Accuracy.jpg')\n",
    "\n",
    "plt.figure()\n",
    "plt.plot(epochs, loss, 'b', label = 'Training loss')\n",
    "plt.plot(epochs, val_loss, 'r', label='Validation loss')\n",
    "plt.title('Training and validation loss')\n",
    "plt.legend()\n",
    "# plt.savefig('Loss.jpg')"
   ]
  },
  {
   "cell_type": "code",
   "execution_count": 12,
   "metadata": {},
   "outputs": [],
   "source": [
    "loss, acc = model.evaluate(test_generator, steps=test_steps, verbose=0)"
   ]
  },
  {
   "cell_type": "code",
   "execution_count": 13,
   "metadata": {},
   "outputs": [
    {
     "data": {
      "text/plain": [
       "0.78125"
      ]
     },
     "execution_count": 13,
     "metadata": {},
     "output_type": "execute_result"
    }
   ],
   "source": [
    "acc"
   ]
  },
  {
   "cell_type": "markdown",
   "metadata": {},
   "source": [
    "# Fine Tuning"
   ]
  },
  {
   "cell_type": "code",
   "execution_count": 17,
   "metadata": {},
   "outputs": [],
   "source": [
    "# reset our data generators\n",
    "train_generator.reset()\n",
    "val_generator.reset()\n",
    "# now that the head FC layers have been trained/initialized, lets\n",
    "# unfreeze the final set of CONV layers and make them trainable\n",
    "for layer in conv_base.layers[450:]:\n",
    "    layer.trainable = True"
   ]
  },
  {
   "cell_type": "code",
   "execution_count": 18,
   "metadata": {},
   "outputs": [],
   "source": [
    "learning_rate = 5e-5\n",
    "epochs = 200\n",
    "steps_per_epoch = int(12000 / (batch_size))\n",
    "validation_steps = int(1200 / (batch_size))\n",
    "test_steps = int(1200 / (batch_size))"
   ]
  },
  {
   "cell_type": "code",
   "execution_count": 19,
   "metadata": {},
   "outputs": [],
   "source": [
    "logdir = os.path.join(\"logs\", datetime.datetime.now().strftime(\"%Y%m%d-%H%M%S\"))\n",
    "callback = tf.keras.callbacks.EarlyStopping(monitor='val_acc', patience=5,\n",
    "                                            mode='max',\n",
    "                                            restore_best_weights=True)\n",
    "\n",
    "# Recompiling the model\n",
    "model.compile(loss=\"categorical_crossentropy\",\n",
    "              optimizer=tf.keras.optimizers.Adam(lr=learning_rate,\n",
    "                                        clipnorm = 1.),\n",
    "              metrics=['acc'])"
   ]
  },
  {
   "cell_type": "code",
   "execution_count": 20,
   "metadata": {},
   "outputs": [
    {
     "name": "stdout",
     "output_type": "stream",
     "text": [
      "Epoch 1/200\n",
      "375/375 [==============================] - 101s 268ms/step - loss: 1.4442 - acc: 0.6405 - val_loss: 0.9648 - val_acc: 0.7483\n",
      "Epoch 2/200\n",
      "375/375 [==============================] - 100s 268ms/step - loss: 1.2438 - acc: 0.6622 - val_loss: 0.8703 - val_acc: 0.7576\n",
      "Epoch 3/200\n",
      "375/375 [==============================] - 101s 269ms/step - loss: 1.1905 - acc: 0.6680 - val_loss: 0.9026 - val_acc: 0.7703\n",
      "Epoch 4/200\n",
      "375/375 [==============================] - 101s 270ms/step - loss: 1.1088 - acc: 0.6883 - val_loss: 0.9628 - val_acc: 0.7782\n",
      "Epoch 5/200\n",
      "375/375 [==============================] - 101s 269ms/step - loss: 1.0847 - acc: 0.6980 - val_loss: 1.1131 - val_acc: 0.7255\n",
      "Epoch 6/200\n",
      "375/375 [==============================] - 101s 271ms/step - loss: 1.0309 - acc: 0.7105 - val_loss: 0.8393 - val_acc: 0.7990\n",
      "Epoch 7/200\n",
      "375/375 [==============================] - 101s 271ms/step - loss: 1.0020 - acc: 0.7132 - val_loss: 1.0595 - val_acc: 0.7773\n",
      "Epoch 8/200\n",
      "375/375 [==============================] - 102s 271ms/step - loss: 0.9763 - acc: 0.7166 - val_loss: 1.2089 - val_acc: 0.7323\n",
      "Epoch 9/200\n",
      "375/375 [==============================] - 102s 271ms/step - loss: 0.9421 - acc: 0.7288 - val_loss: 0.8660 - val_acc: 0.7812\n",
      "Epoch 10/200\n",
      "375/375 [==============================] - 102s 271ms/step - loss: 0.9097 - acc: 0.7395 - val_loss: 0.9402 - val_acc: 0.7939\n",
      "Epoch 11/200\n",
      "375/375 [==============================] - 102s 271ms/step - loss: 0.8899 - acc: 0.7462 - val_loss: 1.1968 - val_acc: 0.7440\n"
     ]
    }
   ],
   "source": [
    "# Retraining the model\n",
    "history = model.fit(train_generator,\n",
    "                    epochs=epochs,\n",
    "                    steps_per_epoch=steps_per_epoch,\n",
    "                    shuffle=True, \n",
    "                    validation_data=val_generator,\n",
    "                    validation_steps=validation_steps,\n",
    "                    callbacks=[callback]\n",
    "                    )"
   ]
  },
  {
   "cell_type": "code",
   "execution_count": 21,
   "metadata": {},
   "outputs": [
    {
     "data": {
      "text/plain": [
       "<matplotlib.legend.Legend at 0x7fd369f78400>"
      ]
     },
     "execution_count": 21,
     "metadata": {},
     "output_type": "execute_result"
    },
    {
     "data": {
      "image/png": "[encoded data removed]",
      "text/plain": [
       "<Figure size 432x288 with 1 Axes>"
      ]
     },
     "metadata": {
      "needs_background": "light"
     },
     "output_type": "display_data"
    },
    {
     "data": {
      "image/png": "[encoded data removed]",
      "text/plain": [
       "<Figure size 432x288 with 1 Axes>"
      ]
     },
     "metadata": {
      "needs_background": "light"
     },
     "output_type": "display_data"
    }
   ],
   "source": [
    "acc = history.history['acc']\n",
    "val_acc = history.history['val_acc']\n",
    "loss = history.history['loss']\n",
    "val_loss = history.history['val_loss']\n",
    "epochs = range(1,len(acc)+1)\n",
    "\n",
    "plt.figure()\n",
    "plt.plot(epochs, acc, 'b', label = 'Training accuracy')\n",
    "plt.plot(epochs, val_acc, 'r', label='Validation accuracy')\n",
    "plt.title('Training and validation accuracy')\n",
    "plt.legend()\n",
    "# plt.savefig('Accuracy.jpg')\n",
    "\n",
    "plt.figure()\n",
    "plt.plot(epochs, loss, 'b', label = 'Training loss')\n",
    "plt.plot(epochs, val_loss, 'r', label='Validation loss')\n",
    "plt.title('Training and validation loss')\n",
    "plt.legend()\n",
    "# plt.savefig('Loss.jpg')"
   ]
  },
  {
   "cell_type": "code",
   "execution_count": 22,
   "metadata": {},
   "outputs": [],
   "source": [
    "loss, acc = model.evaluate(test_generator, steps=test_steps, verbose=0)"
   ]
  },
  {
   "cell_type": "code",
   "execution_count": 23,
   "metadata": {},
   "outputs": [
    {
     "data": {
      "text/plain": [
       "0.7474662065505981"
      ]
     },
     "execution_count": 23,
     "metadata": {},
     "output_type": "execute_result"
    }
   ],
   "source": [
    "acc"
   ]
  },
  {
   "cell_type": "code",
   "execution_count": 24,
   "metadata": {},
   "outputs": [],
   "source": [
    "import keras\n",
    "from numba import cuda\n",
    "# Clearing session as we will train model many time\n",
    "keras.backend.clear_session()\n",
    "# Releasing gpu memory directly with cuda\n",
    "cuda.select_device(0)\n",
    "cuda.close()"
   ]
  },
  {
   "cell_type": "code",
   "execution_count": null,
   "metadata": {},
   "outputs": [],
   "source": []
  }
 ],
 "metadata": {
  "kernelspec": {
   "display_name": "Python 3",
   "language": "python",
   "name": "python3"
  },
  "language_info": {
   "codemirror_mode": {
    "name": "ipython",
    "version": 3
   },
   "file_extension": ".py",
   "mimetype": "text/x-python",
   "name": "python",
   "nbconvert_exporter": "python",
   "pygments_lexer": "ipython3",
   "version": "3.8.3"
  }
 },
 "nbformat": 4,
 "nbformat_minor": 4
}

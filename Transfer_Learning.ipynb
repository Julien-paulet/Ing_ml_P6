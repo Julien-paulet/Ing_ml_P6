{
 "cells": [
  {
   "cell_type": "code",
   "execution_count": 1,
   "metadata": {},
   "outputs": [],
   "source": [
    "import numpy as np\n",
    "import os\n",
    "import matplotlib.pyplot as plt\n",
    "import seaborn as sns\n",
    "import datetime\n",
    "\n",
    "from numpy.random import seed\n",
    "seed(1337)\n",
    "\n",
    "import tensorflow as tf\n",
    "tf.random.set_seed(42)\n",
    "\n",
    "from tensorflow.python.keras.applications import vgg16\n",
    "from tensorflow.python.keras.applications.vgg16 import preprocess_input\n",
    "from tensorflow.python.keras.preprocessing.image import ImageDataGenerator, load_img\n",
    "from tensorflow.python.keras.callbacks import ModelCheckpoint\n",
    "from tensorflow.python.keras import layers, models, Model, optimizers\n",
    "\n",
    "from sklearn.metrics import classification_report, confusion_matrix, accuracy_score\n",
    "from sklearn.metrics import plot_confusion_matrix"
   ]
  },
  {
   "cell_type": "code",
   "execution_count": 2,
   "metadata": {},
   "outputs": [],
   "source": [
    "# If this is not set, bug because tf takes too much memory\n",
    "physical_devices = tf.config.experimental.list_physical_devices('GPU')\n",
    "assert len(physical_devices) > 0, \"Not enough GPU hardware devices available\"\n",
    "config = tf.config.experimental.set_memory_growth(physical_devices[0], True)"
   ]
  },
  {
   "cell_type": "code",
   "execution_count": 3,
   "metadata": {},
   "outputs": [],
   "source": [
    "train_data_dir = \"dataset/Train\"\n",
    "val_data_dir = \"dataset/Validation\"\n",
    "test_data_dir = \"dataset/Test\"\n",
    "category_names = sorted(os.listdir('dataset/Train'))\n",
    "nb_categories = len(category_names)\n",
    "img_pr_cat = []\n",
    "for category in category_names:\n",
    "    folder = 'dataset/Train' + '/' + category\n",
    "    img_pr_cat.append(len(os.listdir(folder)))"
   ]
  },
  {
   "cell_type": "code",
   "execution_count": 4,
   "metadata": {},
   "outputs": [],
   "source": [
    "img_height, img_width = 120,120\n",
    "conv_base = vgg16.VGG16(weights='imagenet', include_top=False,\n",
    "                        pooling='max',\n",
    "                        input_shape = (img_width, img_height, 3))"
   ]
  },
  {
   "cell_type": "code",
   "execution_count": 5,
   "metadata": {},
   "outputs": [],
   "source": [
    "# Disabling all VGG 16 layers for training\n",
    "conv_base.trainable = False"
   ]
  },
  {
   "cell_type": "code",
   "execution_count": 6,
   "metadata": {},
   "outputs": [
    {
     "name": "stdout",
     "output_type": "stream",
     "text": [
      "Model: \"sequential\"\n",
      "_________________________________________________________________\n",
      "Layer (type)                 Output Shape              Param #   \n",
      "=================================================================\n",
      "vgg16 (Model)                (None, 512)               14714688  \n",
      "_________________________________________________________________\n",
      "dense (Dense)                (None, 120)               61560     \n",
      "=================================================================\n",
      "Total params: 14,776,248\n",
      "Trainable params: 61,560\n",
      "Non-trainable params: 14,714,688\n",
      "_________________________________________________________________\n"
     ]
    }
   ],
   "source": [
    "model = models.Sequential()\n",
    "model.add(conv_base)\n",
    "model.add(layers.Dense(nb_categories, activation='softmax'))\n",
    "model.summary()"
   ]
  },
  {
   "cell_type": "code",
   "execution_count": 7,
   "metadata": {},
   "outputs": [
    {
     "name": "stdout",
     "output_type": "stream",
     "text": [
      "Total number of images for \"training\":\n",
      "Found 12348 images belonging to 120 classes.\n",
      "Total number of images for \"validation\":\n",
      "Found 4116 images belonging to 120 classes.\n",
      "Total number of images for \"testing\":\n",
      "Found 4116 images belonging to 120 classes.\n"
     ]
    }
   ],
   "source": [
    "#Number of images to load at each iteration\n",
    "batch_size = 32\n",
    "\n",
    "# only rescaling\n",
    "train_datagen =  ImageDataGenerator(\n",
    "    horizontal_flip=True,\n",
    "    rescale=1./255\n",
    ")\n",
    "test_datagen =  ImageDataGenerator(\n",
    "    rescale=1./255\n",
    ")\n",
    "\n",
    "# these are generators for train/test data that will read pictures \n",
    "# found in the defined subfolders of 'data/'\n",
    "print('Total number of images for \"training\":')\n",
    "train_generator = train_datagen.flow_from_directory(\n",
    "train_data_dir,\n",
    "target_size = (img_height, img_width),\n",
    "batch_size = batch_size, \n",
    "class_mode = \"categorical\")\n",
    "\n",
    "print('Total number of images for \"validation\":')\n",
    "val_generator = test_datagen.flow_from_directory(\n",
    "val_data_dir,\n",
    "target_size = (img_height, img_width),\n",
    "batch_size = batch_size,\n",
    "class_mode = \"categorical\",\n",
    "shuffle=False)\n",
    "\n",
    "print('Total number of images for \"testing\":')\n",
    "test_generator = test_datagen.flow_from_directory(\n",
    "test_data_dir,\n",
    "target_size = (img_height, img_width),\n",
    "batch_size = batch_size,\n",
    "class_mode = \"categorical\",\n",
    "shuffle=False)"
   ]
  },
  {
   "cell_type": "code",
   "execution_count": 8,
   "metadata": {},
   "outputs": [],
   "source": [
    "learning_rate = 5e-5\n",
    "epochs = 40\n",
    "steps_per_epoch = int(12000 / (batch_size))\n",
    "validation_steps = int(1200 / (batch_size))\n",
    "\n",
    "logdir = os.path.join(\"logs\", datetime.datetime.now().strftime(\"%Y%m%d-%H%M%S\"))\n",
    "checkpoint  = tf.keras.callbacks.TensorBoard(logdir, histogram_freq=1)\n",
    "model.compile(loss=\"categorical_crossentropy\",\n",
    "              optimizer=tf.keras.optimizers.Adam(lr=learning_rate,\n",
    "                                        clipnorm = 1.),\n",
    "              metrics=['acc'])"
   ]
  },
  {
   "cell_type": "code",
   "execution_count": 9,
   "metadata": {},
   "outputs": [
    {
     "name": "stdout",
     "output_type": "stream",
     "text": [
      "Epoch 1/40\n",
      "385/385 [==============================] - 29s 76ms/step - loss: 5.0374 - acc: 0.0095 - val_loss: 4.7947 - val_acc: 0.0173\n",
      "Epoch 2/40\n",
      "385/385 [==============================] - 29s 76ms/step - loss: 4.8249 - acc: 0.0133 - val_loss: 4.8439 - val_acc: 0.0140\n",
      "Epoch 3/40\n",
      "385/385 [==============================] - 30s 77ms/step - loss: 4.7424 - acc: 0.0175 - val_loss: 4.7505 - val_acc: 0.0173\n",
      "Epoch 4/40\n",
      "385/385 [==============================] - 30s 78ms/step - loss: 4.6751 - acc: 0.0269 - val_loss: 4.6369 - val_acc: 0.0299\n",
      "Epoch 5/40\n",
      "385/385 [==============================] - 30s 77ms/step - loss: 4.6128 - acc: 0.0330 - val_loss: 4.6370 - val_acc: 0.0411\n",
      "Epoch 6/40\n",
      "385/385 [==============================] - 30s 78ms/step - loss: 4.5548 - acc: 0.0427 - val_loss: 4.6661 - val_acc: 0.0296\n",
      "Epoch 7/40\n",
      "385/385 [==============================] - 30s 77ms/step - loss: 4.5019 - acc: 0.0481 - val_loss: 4.4365 - val_acc: 0.0673\n",
      "Epoch 8/40\n",
      "385/385 [==============================] - 30s 77ms/step - loss: 4.4410 - acc: 0.0580 - val_loss: 4.4475 - val_acc: 0.0699\n",
      "Epoch 9/40\n",
      "385/385 [==============================] - 30s 78ms/step - loss: 4.3924 - acc: 0.0706 - val_loss: 4.5914 - val_acc: 0.0321\n",
      "Epoch 10/40\n",
      "385/385 [==============================] - 30s 78ms/step - loss: 4.3456 - acc: 0.0771 - val_loss: 4.3787 - val_acc: 0.0797\n",
      "Epoch 11/40\n",
      "385/385 [==============================] - 30s 77ms/step - loss: 4.2963 - acc: 0.0847 - val_loss: 4.3141 - val_acc: 0.0954\n",
      "Epoch 12/40\n",
      "385/385 [==============================] - 30s 78ms/step - loss: 4.2572 - acc: 0.0961 - val_loss: 4.3900 - val_acc: 0.0748\n",
      "Epoch 13/40\n",
      "385/385 [==============================] - 30s 78ms/step - loss: 4.2205 - acc: 0.0993 - val_loss: 4.3250 - val_acc: 0.0872\n",
      "Epoch 14/40\n",
      "385/385 [==============================] - 30s 78ms/step - loss: 4.1794 - acc: 0.1073 - val_loss: 4.2046 - val_acc: 0.1188\n",
      "Epoch 15/40\n",
      "385/385 [==============================] - 30s 78ms/step - loss: 4.1393 - acc: 0.1173 - val_loss: 4.2772 - val_acc: 0.0880\n",
      "Epoch 16/40\n",
      "385/385 [==============================] - 30s 79ms/step - loss: 4.1054 - acc: 0.1199 - val_loss: 4.3273 - val_acc: 0.0715\n",
      "Epoch 17/40\n",
      "385/385 [==============================] - 30s 78ms/step - loss: 4.0703 - acc: 0.1272 - val_loss: 4.0619 - val_acc: 0.1645\n",
      "Epoch 18/40\n",
      "385/385 [==============================] - 30s 78ms/step - loss: 4.0352 - acc: 0.1364 - val_loss: 4.1569 - val_acc: 0.1077\n",
      "Epoch 19/40\n",
      "385/385 [==============================] - 30s 79ms/step - loss: 4.0048 - acc: 0.1417 - val_loss: 4.2691 - val_acc: 0.0757\n",
      "Epoch 20/40\n",
      "385/385 [==============================] - 30s 78ms/step - loss: 3.9759 - acc: 0.1462 - val_loss: 4.0494 - val_acc: 0.1520\n",
      "Epoch 21/40\n",
      "385/385 [==============================] - 30s 78ms/step - loss: 3.9449 - acc: 0.1524 - val_loss: 4.0834 - val_acc: 0.1209\n",
      "Epoch 22/40\n",
      "385/385 [==============================] - 30s 78ms/step - loss: 3.9163 - acc: 0.1570 - val_loss: 4.1380 - val_acc: 0.1077\n",
      "Epoch 23/40\n",
      "385/385 [==============================] - 30s 79ms/step - loss: 3.8872 - acc: 0.1634 - val_loss: 4.0794 - val_acc: 0.1176\n",
      "Epoch 24/40\n",
      "385/385 [==============================] - 30s 78ms/step - loss: 3.8664 - acc: 0.1651 - val_loss: 3.9165 - val_acc: 0.1744\n",
      "Epoch 25/40\n",
      "385/385 [==============================] - 30s 78ms/step - loss: 3.8376 - acc: 0.1720 - val_loss: 4.1027 - val_acc: 0.1135\n",
      "Epoch 26/40\n",
      "385/385 [==============================] - 30s 79ms/step - loss: 3.8152 - acc: 0.1777 - val_loss: 4.0887 - val_acc: 0.1160\n",
      "Epoch 27/40\n",
      "385/385 [==============================] - 30s 78ms/step - loss: 3.7927 - acc: 0.1836 - val_loss: 3.8642 - val_acc: 0.1802\n",
      "Epoch 28/40\n",
      "385/385 [==============================] - 30s 77ms/step - loss: 3.7627 - acc: 0.1870 - val_loss: 3.9806 - val_acc: 0.1431\n",
      "Epoch 29/40\n",
      "385/385 [==============================] - 30s 78ms/step - loss: 3.7432 - acc: 0.1916 - val_loss: 4.0667 - val_acc: 0.1094\n",
      "Epoch 30/40\n",
      "385/385 [==============================] - 30s 78ms/step - loss: 3.7226 - acc: 0.1929 - val_loss: 3.8602 - val_acc: 0.1844\n",
      "Epoch 31/40\n",
      "385/385 [==============================] - 30s 78ms/step - loss: 3.7072 - acc: 0.1972 - val_loss: 3.9292 - val_acc: 0.1472\n",
      "Epoch 32/40\n",
      "385/385 [==============================] - 30s 78ms/step - loss: 3.6689 - acc: 0.2072 - val_loss: 3.9843 - val_acc: 0.1332\n",
      "Epoch 33/40\n",
      "385/385 [==============================] - 30s 78ms/step - loss: 3.6676 - acc: 0.2036 - val_loss: 3.9318 - val_acc: 0.1497\n",
      "Epoch 34/40\n",
      "385/385 [==============================] - 30s 78ms/step - loss: 3.6313 - acc: 0.2091 - val_loss: 3.8004 - val_acc: 0.1877\n",
      "Epoch 35/40\n",
      "385/385 [==============================] - 30s 78ms/step - loss: 3.6335 - acc: 0.2096 - val_loss: 3.9835 - val_acc: 0.1266\n",
      "Epoch 36/40\n",
      "385/385 [==============================] - 30s 78ms/step - loss: 3.5996 - acc: 0.2154 - val_loss: 3.8824 - val_acc: 0.1554\n",
      "Epoch 37/40\n",
      "385/385 [==============================] - 30s 77ms/step - loss: 3.5900 - acc: 0.2185 - val_loss: 3.7281 - val_acc: 0.2043\n",
      "Epoch 38/40\n",
      "385/385 [==============================] - 30s 78ms/step - loss: 3.5718 - acc: 0.2183 - val_loss: 3.8366 - val_acc: 0.1645\n",
      "Epoch 39/40\n",
      "385/385 [==============================] - 30s 78ms/step - loss: 3.5405 - acc: 0.2266 - val_loss: 3.9501 - val_acc: 0.1242\n",
      "Epoch 40/40\n",
      "385/385 [==============================] - 30s 78ms/step - loss: 3.5383 - acc: 0.2254 - val_loss: 3.7125 - val_acc: 0.2143\n"
     ]
    }
   ],
   "source": [
    "history = model.fit(train_generator,\n",
    "                    epochs=epochs,\n",
    "                    steps_per_epoch=steps_per_epoch,\n",
    "                    shuffle=True, \n",
    "                    validation_data=val_generator,\n",
    "                    validation_steps=validation_steps,\n",
    "                    callbacks=[checkpoint]\n",
    "                    )"
   ]
  },
  {
   "cell_type": "code",
   "execution_count": 10,
   "metadata": {},
   "outputs": [
    {
     "data": {
      "text/plain": [
       "<matplotlib.legend.Legend at 0x7febb4d54d00>"
      ]
     },
     "execution_count": 10,
     "metadata": {},
     "output_type": "execute_result"
    },
    {
     "data": {
      "image/png": "[encoded data removed]",
      "text/plain": [
       "<Figure size 432x288 with 1 Axes>"
      ]
     },
     "metadata": {
      "needs_background": "light"
     },
     "output_type": "display_data"
    },
    {
     "data": {
      "image/png": "[encoded data removed]",
      "text/plain": [
       "<Figure size 432x288 with 1 Axes>"
      ]
     },
     "metadata": {
      "needs_background": "light"
     },
     "output_type": "display_data"
    }
   ],
   "source": [
    "acc = history.history['acc']\n",
    "val_acc = history.history['val_acc']\n",
    "loss = history.history['loss']\n",
    "val_loss = history.history['val_loss']\n",
    "epochs = range(1,len(acc)+1)\n",
    "\n",
    "plt.figure()\n",
    "plt.plot(epochs, acc, 'b', label = 'Training accuracy')\n",
    "plt.plot(epochs, val_acc, 'r', label='Validation accuracy')\n",
    "plt.title('Training and validation accuracy')\n",
    "plt.legend()\n",
    "# plt.savefig('Accuracy.jpg')\n",
    "\n",
    "plt.figure()\n",
    "plt.plot(epochs, loss, 'b', label = 'Training loss')\n",
    "plt.plot(epochs, val_loss, 'r', label='Validation loss')\n",
    "plt.title('Training and validation loss')\n",
    "plt.legend()\n",
    "# plt.savefig('Loss.jpg')"
   ]
  },
  {
   "cell_type": "code",
   "execution_count": 13,
   "metadata": {},
   "outputs": [],
   "source": [
    "import keras\n",
    "from numba import cuda\n",
    "# Clearing session as we will train model many time\n",
    "keras.backend.clear_session()\n",
    "# Releasing gpu memory directly with cuda\n",
    "cuda.select_device(0)\n",
    "cuda.close()"
   ]
  },
  {
   "cell_type": "code",
   "execution_count": null,
   "metadata": {},
   "outputs": [],
   "source": []
  }
 ],
 "metadata": {
  "kernelspec": {
   "display_name": "Python 3",
   "language": "python",
   "name": "python3"
  },
  "language_info": {
   "codemirror_mode": {
    "name": "ipython",
    "version": 3
   },
   "file_extension": ".py",
   "mimetype": "text/x-python",
   "name": "python",
   "nbconvert_exporter": "python",
   "pygments_lexer": "ipython3",
   "version": "3.8.3"
  }
 },
 "nbformat": 4,
 "nbformat_minor": 4
}
